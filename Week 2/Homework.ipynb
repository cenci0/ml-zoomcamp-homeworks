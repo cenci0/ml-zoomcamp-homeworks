{
 "cells": [
  {
   "cell_type": "markdown",
   "source": [
    "## Homework\n",
    "\n",
    "### Dataset\n",
    "\n",
    "In this homework, we will use the California Housing Prices from [Kaggle](https://www.kaggle.com/datasets/camnugent/california-housing-prices).\n",
    "\n",
    "Here's a wget-able [link](https://raw.githubusercontent.com/alexeygrigorev/datasets/master/housing.csv):\n",
    "\n",
    "```bash\n",
    "wget https://raw.githubusercontent.com/alexeygrigorev/datasets/master/housing.csv\n",
    "```\n",
    "\n",
    "The goal of this homework is to create a regression model for predicting housing prices (column `'median_house_value'`)."
   ],
   "metadata": {
    "collapsed": false,
    "pycharm": {
     "name": "#%% md\n"
    }
   }
  },
  {
   "cell_type": "code",
   "execution_count": 1,
   "outputs": [],
   "source": [
    "import pandas as pd\n",
    "import numpy as np\n",
    "\n",
    "import seaborn as sns\n",
    "from matplotlib import pyplot as plt\n",
    "%matplotlib inline\n",
    "\n",
    "from pprint import pprint"
   ],
   "metadata": {
    "collapsed": false,
    "pycharm": {
     "name": "#%%\n"
    }
   }
  },
  {
   "cell_type": "markdown",
   "source": [
    "### EDA\n",
    "\n",
    "* Load the data.\n",
    "* Look at the `median_house_value` variable. Does it have a long tail?"
   ],
   "metadata": {
    "collapsed": false,
    "pycharm": {
     "name": "#%% md\n"
    }
   },
   "outputs": []
  },
  {
   "cell_type": "code",
   "execution_count": 2,
   "outputs": [],
   "source": [
    "df = pd.read_csv('./resources/housing.csv')"
   ],
   "metadata": {
    "collapsed": false,
    "pycharm": {
     "name": "#%%\n"
    }
   }
  },
  {
   "cell_type": "code",
   "execution_count": 3,
   "outputs": [
    {
     "data": {
      "text/plain": "<AxesSubplot:xlabel='median_house_value', ylabel='Count'>"
     },
     "execution_count": 3,
     "metadata": {},
     "output_type": "execute_result"
    },
    {
     "data": {
      "text/plain": "<Figure size 640x480 with 1 Axes>",
      "image/png": "[encoded data removed]"
     },
     "metadata": {},
     "output_type": "display_data"
    }
   ],
   "source": [
    "sns.histplot(df, x='median_house_value', bins=50)"
   ],
   "metadata": {
    "collapsed": false,
    "pycharm": {
     "name": "#%%\n"
    }
   }
  },
  {
   "cell_type": "markdown",
   "source": [
    "It doesn't look like the variable `median_house_value` has a long tail."
   ],
   "metadata": {
    "collapsed": false,
    "pycharm": {
     "name": "#%% md\n"
    }
   }
  },
  {
   "cell_type": "markdown",
   "source": [
    "### Features\n",
    "\n",
    "For the rest of the homework, you'll need to use only these columns:\n",
    "\n",
    "* `'latitude'`,\n",
    "* `'longitude'`,\n",
    "* `'housing_median_age'`,\n",
    "* `'total_rooms'`,\n",
    "* `'total_bedrooms'`,\n",
    "* `'population'`,\n",
    "* `'households'`,\n",
    "* `'median_income'`,\n",
    "* `'median_house_value'`\n",
    "\n",
    "Select only them."
   ],
   "metadata": {
    "collapsed": false,
    "pycharm": {
     "name": "#%% md\n"
    }
   },
   "outputs": []
  },
  {
   "cell_type": "code",
   "execution_count": 4,
   "outputs": [
    {
     "data": {
      "text/plain": "       latitude  longitude  housing_median_age  total_rooms  total_bedrooms  \\\n0         37.88    -122.23                41.0        880.0           129.0   \n1         37.86    -122.22                21.0       7099.0          1106.0   \n2         37.85    -122.24                52.0       1467.0           190.0   \n3         37.85    -122.25                52.0       1274.0           235.0   \n4         37.85    -122.25                52.0       1627.0           280.0   \n...         ...        ...                 ...          ...             ...   \n20635     39.48    -121.09                25.0       1665.0           374.0   \n20636     39.49    -121.21                18.0        697.0           150.0   \n20637     39.43    -121.22                17.0       2254.0           485.0   \n20638     39.43    -121.32                18.0       1860.0           409.0   \n20639     39.37    -121.24                16.0       2785.0           616.0   \n\n       population  households  median_income  median_house_value  \n0           322.0       126.0         8.3252            452600.0  \n1          2401.0      1138.0         8.3014            358500.0  \n2           496.0       177.0         7.2574            352100.0  \n3           558.0       219.0         5.6431            341300.0  \n4           565.0       259.0         3.8462            342200.0  \n...           ...         ...            ...                 ...  \n20635       845.0       330.0         1.5603             78100.0  \n20636       356.0       114.0         2.5568             77100.0  \n20637      1007.0       433.0         1.7000             92300.0  \n20638       741.0       349.0         1.8672             84700.0  \n20639      1387.0       530.0         2.3886             89400.0  \n\n[20640 rows x 9 columns]",
      "text/html": "<div>\n<style scoped>\n    .dataframe tbody tr th:only-of-type {\n        vertical-align: middle;\n    }\n\n    .dataframe tbody tr th {\n        vertical-align: top;\n    }\n\n    .dataframe thead th {\n        text-align: right;\n    }\n</style>\n<table border=\"1\" class=\"dataframe\">\n  <thead>\n    <tr style=\"text-align: right;\">\n      <th></th>\n      <th>latitude</th>\n      <th>longitude</th>\n      <th>housing_median_age</th>\n      <th>total_rooms</th>\n      <th>total_bedrooms</th>\n      <th>population</th>\n      <th>households</th>\n      <th>median_income</th>\n      <th>median_house_value</th>\n    </tr>\n  </thead>\n  <tbody>\n    <tr>\n      <th>0</th>\n      <td>37.88</td>\n      <td>-122.23</td>\n      <td>41.0</td>\n      <td>880.0</td>\n      <td>129.0</td>\n      <td>322.0</td>\n      <td>126.0</td>\n      <td>8.3252</td>\n      <td>452600.0</td>\n    </tr>\n    <tr>\n      <th>1</th>\n      <td>37.86</td>\n      <td>-122.22</td>\n      <td>21.0</td>\n      <td>7099.0</td>\n      <td>1106.0</td>\n      <td>2401.0</td>\n      <td>1138.0</td>\n      <td>8.3014</td>\n      <td>358500.0</td>\n    </tr>\n    <tr>\n      <th>2</th>\n      <td>37.85</td>\n      <td>-122.24</td>\n      <td>52.0</td>\n      <td>1467.0</td>\n      <td>190.0</td>\n      <td>496.0</td>\n      <td>177.0</td>\n      <td>7.2574</td>\n      <td>352100.0</td>\n    </tr>\n    <tr>\n      <th>3</th>\n      <td>37.85</td>\n      <td>-122.25</td>\n      <td>52.0</td>\n      <td>1274.0</td>\n      <td>235.0</td>\n      <td>558.0</td>\n      <td>219.0</td>\n      <td>5.6431</td>\n      <td>341300.0</td>\n    </tr>\n    <tr>\n      <th>4</th>\n      <td>37.85</td>\n      <td>-122.25</td>\n      <td>52.0</td>\n      <td>1627.0</td>\n      <td>280.0</td>\n      <td>565.0</td>\n      <td>259.0</td>\n      <td>3.8462</td>\n      <td>342200.0</td>\n    </tr>\n    <tr>\n      <th>...</th>\n      <td>...</td>\n      <td>...</td>\n      <td>...</td>\n      <td>...</td>\n      <td>...</td>\n      <td>...</td>\n      <td>...</td>\n      <td>...</td>\n      <td>...</td>\n    </tr>\n    <tr>\n      <th>20635</th>\n      <td>39.48</td>\n      <td>-121.09</td>\n      <td>25.0</td>\n      <td>1665.0</td>\n      <td>374.0</td>\n      <td>845.0</td>\n      <td>330.0</td>\n      <td>1.5603</td>\n      <td>78100.0</td>\n    </tr>\n    <tr>\n      <th>20636</th>\n      <td>39.49</td>\n      <td>-121.21</td>\n      <td>18.0</td>\n      <td>697.0</td>\n      <td>150.0</td>\n      <td>356.0</td>\n      <td>114.0</td>\n      <td>2.5568</td>\n      <td>77100.0</td>\n    </tr>\n    <tr>\n      <th>20637</th>\n      <td>39.43</td>\n      <td>-121.22</td>\n      <td>17.0</td>\n      <td>2254.0</td>\n      <td>485.0</td>\n      <td>1007.0</td>\n      <td>433.0</td>\n      <td>1.7000</td>\n      <td>92300.0</td>\n    </tr>\n    <tr>\n      <th>20638</th>\n      <td>39.43</td>\n      <td>-121.32</td>\n      <td>18.0</td>\n      <td>1860.0</td>\n      <td>409.0</td>\n      <td>741.0</td>\n      <td>349.0</td>\n      <td>1.8672</td>\n      <td>84700.0</td>\n    </tr>\n    <tr>\n      <th>20639</th>\n      <td>39.37</td>\n      <td>-121.24</td>\n      <td>16.0</td>\n      <td>2785.0</td>\n      <td>616.0</td>\n      <td>1387.0</td>\n      <td>530.0</td>\n      <td>2.3886</td>\n      <td>89400.0</td>\n    </tr>\n  </tbody>\n</table>\n<p>20640 rows × 9 columns</p>\n</div>"
     },
     "execution_count": 4,
     "metadata": {},
     "output_type": "execute_result"
    }
   ],
   "source": [
    "df = df[['latitude', 'longitude', 'housing_median_age', 'total_rooms', 'total_bedrooms',\n",
    "         'population', 'households', 'median_income', 'median_house_value']]\n",
    "df"
   ],
   "metadata": {
    "collapsed": false,
    "pycharm": {
     "name": "#%%\n"
    }
   }
  },
  {
   "cell_type": "markdown",
   "source": [
    "### Question 1\n",
    "\n",
    "Find a feature with missing values. How many missing values does it have?\n",
    "- 207\n",
    "- 307\n",
    "- 408\n",
    "- 508"
   ],
   "metadata": {
    "collapsed": false,
    "pycharm": {
     "name": "#%% md\n"
    }
   },
   "outputs": []
  },
  {
   "cell_type": "code",
   "execution_count": 5,
   "outputs": [
    {
     "data": {
      "text/plain": "latitude                0\nlongitude               0\nhousing_median_age      0\ntotal_rooms             0\ntotal_bedrooms        207\npopulation              0\nhouseholds              0\nmedian_income           0\nmedian_house_value      0\ndtype: int64"
     },
     "execution_count": 5,
     "metadata": {},
     "output_type": "execute_result"
    }
   ],
   "source": [
    "df.isna().sum()"
   ],
   "metadata": {
    "collapsed": false,
    "pycharm": {
     "name": "#%%\n"
    }
   }
  },
  {
   "cell_type": "markdown",
   "source": [
    "The `total_bedrooms` feature has 207 missing values."
   ],
   "metadata": {
    "collapsed": false,
    "pycharm": {
     "name": "#%% md\n"
    }
   }
  },
  {
   "cell_type": "markdown",
   "source": [
    "### Question 2\n",
    "\n",
    "What's the median (50% percentile) for variable 'population'?\n",
    "- 1133\n",
    "- 1122\n",
    "- 1166\n",
    "- 1188"
   ],
   "metadata": {
    "collapsed": false,
    "pycharm": {
     "name": "#%% md\n"
    }
   },
   "outputs": []
  },
  {
   "cell_type": "code",
   "execution_count": 6,
   "outputs": [
    {
     "data": {
      "text/plain": "1166.0"
     },
     "execution_count": 6,
     "metadata": {},
     "output_type": "execute_result"
    }
   ],
   "source": [
    "df['population'].median()"
   ],
   "metadata": {
    "collapsed": false,
    "pycharm": {
     "name": "#%%\n"
    }
   }
  },
  {
   "cell_type": "markdown",
   "source": [
    "The `population` feature has a median of 1166."
   ],
   "metadata": {
    "collapsed": false,
    "pycharm": {
     "name": "#%% md\n"
    }
   }
  },
  {
   "cell_type": "markdown",
   "source": [
    "### Split the data\n",
    "\n",
    "* Shuffle the initial dataset, use seed `42`.\n",
    "* Split your data in train/val/test sets, with 60%/20%/20% distribution.\n",
    "* Make sure that the target value ('median_house_value') is not in your dataframe.\n",
    "* Apply the log transformation to the median_house_value variable using the `np.log1p()` function."
   ],
   "metadata": {
    "collapsed": false,
    "pycharm": {
     "name": "#%% md\n"
    }
   },
   "outputs": []
  },
  {
   "cell_type": "code",
   "execution_count": 7,
   "outputs": [],
   "source": [
    "# Set seed\n",
    "np.random.seed(42)"
   ],
   "metadata": {
    "collapsed": false,
    "pycharm": {
     "name": "#%%\n"
    }
   }
  },
  {
   "cell_type": "code",
   "execution_count": 8,
   "outputs": [
    {
     "data": {
      "text/plain": "(0.6, 0.2, 0.2)"
     },
     "execution_count": 8,
     "metadata": {},
     "output_type": "execute_result"
    }
   ],
   "source": [
    "# Define split ratio\n",
    "p_val = 0.2\n",
    "p_test = 0.2\n",
    "p_train = 0.6\n",
    "\n",
    "assert p_train + p_val + p_test == 1, 'Invalid split.'\n",
    "\n",
    "p_train, p_val, p_test"
   ],
   "metadata": {
    "collapsed": false,
    "pycharm": {
     "name": "#%%\n"
    }
   }
  },
  {
   "cell_type": "code",
   "execution_count": 9,
   "outputs": [
    {
     "data": {
      "text/plain": "(12384, 4128, 4128)"
     },
     "execution_count": 9,
     "metadata": {},
     "output_type": "execute_result"
    }
   ],
   "source": [
    "# Define lengths\n",
    "n = len(df)\n",
    "n_val = int(n * p_val)\n",
    "n_test = int(n * p_test)\n",
    "n_train = n - n_val - n_test\n",
    "\n",
    "assert n_train + n_val + n_test == n, 'Invalid split.'\n",
    "\n",
    "n_train, n_val, n_test"
   ],
   "metadata": {
    "collapsed": false,
    "pycharm": {
     "name": "#%%\n"
    }
   }
  },
  {
   "cell_type": "code",
   "execution_count": 10,
   "outputs": [
    {
     "data": {
      "text/plain": "array([20046,  3024, 15663, ...,  5390,   860, 15795])"
     },
     "execution_count": 10,
     "metadata": {},
     "output_type": "execute_result"
    }
   ],
   "source": [
    "# Shuffle dataframe index\n",
    "idx = np.arange(n)\n",
    "np.random.shuffle(idx)\n",
    "\n",
    "idx"
   ],
   "metadata": {
    "collapsed": false,
    "pycharm": {
     "name": "#%%\n"
    }
   }
  },
  {
   "cell_type": "code",
   "execution_count": 11,
   "outputs": [
    {
     "data": {
      "text/plain": "       latitude  longitude  housing_median_age  total_rooms  total_bedrooms  \\\n20046     36.06    -119.01                25.0       1505.0             NaN   \n3024      35.14    -119.46                30.0       2943.0             NaN   \n15663     37.80    -122.44                52.0       3830.0             NaN   \n20484     34.28    -118.72                17.0       3051.0             NaN   \n9814      36.62    -121.93                34.0       2351.0             NaN   \n...         ...        ...                 ...          ...             ...   \n11284     33.78    -117.96                35.0       1330.0           201.0   \n11964     34.02    -117.43                33.0       3084.0           570.0   \n5390      34.03    -118.38                36.0       2101.0           569.0   \n860       37.58    -121.96                15.0       3575.0           597.0   \n15795     37.77    -122.42                52.0       4226.0          1315.0   \n\n       population  households  median_income  median_house_value  \n20046      1392.0       359.0         1.6812             47700.0  \n3024       1565.0       584.0         2.5313             45800.0  \n15663      1310.0       963.0         3.4801            500001.0  \n20484      1705.0       495.0         5.7376            218600.0  \n9814       1063.0       428.0         3.7250            278000.0  \n...           ...         ...            ...                 ...  \n11284       658.0       217.0         6.3700            229200.0  \n11964      1753.0       449.0         3.0500             97800.0  \n5390       1756.0       527.0         2.9344            222100.0  \n860        1777.0       559.0         5.7192            283500.0  \n15795      2619.0      1242.0         2.5755            325000.0  \n\n[20640 rows x 9 columns]",
      "text/html": "<div>\n<style scoped>\n    .dataframe tbody tr th:only-of-type {\n        vertical-align: middle;\n    }\n\n    .dataframe tbody tr th {\n        vertical-align: top;\n    }\n\n    .dataframe thead th {\n        text-align: right;\n    }\n</style>\n<table border=\"1\" class=\"dataframe\">\n  <thead>\n    <tr style=\"text-align: right;\">\n      <th></th>\n      <th>latitude</th>\n      <th>longitude</th>\n      <th>housing_median_age</th>\n      <th>total_rooms</th>\n      <th>total_bedrooms</th>\n      <th>population</th>\n      <th>households</th>\n      <th>median_income</th>\n      <th>median_house_value</th>\n    </tr>\n  </thead>\n  <tbody>\n    <tr>\n      <th>20046</th>\n      <td>36.06</td>\n      <td>-119.01</td>\n      <td>25.0</td>\n      <td>1505.0</td>\n      <td>NaN</td>\n      <td>1392.0</td>\n      <td>359.0</td>\n      <td>1.6812</td>\n      <td>47700.0</td>\n    </tr>\n    <tr>\n      <th>3024</th>\n      <td>35.14</td>\n      <td>-119.46</td>\n      <td>30.0</td>\n      <td>2943.0</td>\n      <td>NaN</td>\n      <td>1565.0</td>\n      <td>584.0</td>\n      <td>2.5313</td>\n      <td>45800.0</td>\n    </tr>\n    <tr>\n      <th>15663</th>\n      <td>37.80</td>\n      <td>-122.44</td>\n      <td>52.0</td>\n      <td>3830.0</td>\n      <td>NaN</td>\n      <td>1310.0</td>\n      <td>963.0</td>\n      <td>3.4801</td>\n      <td>500001.0</td>\n    </tr>\n    <tr>\n      <th>20484</th>\n      <td>34.28</td>\n      <td>-118.72</td>\n      <td>17.0</td>\n      <td>3051.0</td>\n      <td>NaN</td>\n      <td>1705.0</td>\n      <td>495.0</td>\n      <td>5.7376</td>\n      <td>218600.0</td>\n    </tr>\n    <tr>\n      <th>9814</th>\n      <td>36.62</td>\n      <td>-121.93</td>\n      <td>34.0</td>\n      <td>2351.0</td>\n      <td>NaN</td>\n      <td>1063.0</td>\n      <td>428.0</td>\n      <td>3.7250</td>\n      <td>278000.0</td>\n    </tr>\n    <tr>\n      <th>...</th>\n      <td>...</td>\n      <td>...</td>\n      <td>...</td>\n      <td>...</td>\n      <td>...</td>\n      <td>...</td>\n      <td>...</td>\n      <td>...</td>\n      <td>...</td>\n    </tr>\n    <tr>\n      <th>11284</th>\n      <td>33.78</td>\n      <td>-117.96</td>\n      <td>35.0</td>\n      <td>1330.0</td>\n      <td>201.0</td>\n      <td>658.0</td>\n      <td>217.0</td>\n      <td>6.3700</td>\n      <td>229200.0</td>\n    </tr>\n    <tr>\n      <th>11964</th>\n      <td>34.02</td>\n      <td>-117.43</td>\n      <td>33.0</td>\n      <td>3084.0</td>\n      <td>570.0</td>\n      <td>1753.0</td>\n      <td>449.0</td>\n      <td>3.0500</td>\n      <td>97800.0</td>\n    </tr>\n    <tr>\n      <th>5390</th>\n      <td>34.03</td>\n      <td>-118.38</td>\n      <td>36.0</td>\n      <td>2101.0</td>\n      <td>569.0</td>\n      <td>1756.0</td>\n      <td>527.0</td>\n      <td>2.9344</td>\n      <td>222100.0</td>\n    </tr>\n    <tr>\n      <th>860</th>\n      <td>37.58</td>\n      <td>-121.96</td>\n      <td>15.0</td>\n      <td>3575.0</td>\n      <td>597.0</td>\n      <td>1777.0</td>\n      <td>559.0</td>\n      <td>5.7192</td>\n      <td>283500.0</td>\n    </tr>\n    <tr>\n      <th>15795</th>\n      <td>37.77</td>\n      <td>-122.42</td>\n      <td>52.0</td>\n      <td>4226.0</td>\n      <td>1315.0</td>\n      <td>2619.0</td>\n      <td>1242.0</td>\n      <td>2.5755</td>\n      <td>325000.0</td>\n    </tr>\n  </tbody>\n</table>\n<p>20640 rows × 9 columns</p>\n</div>"
     },
     "execution_count": 11,
     "metadata": {},
     "output_type": "execute_result"
    }
   ],
   "source": [
    "# Shuffle the dataframe\n",
    "df_shuffled = df.iloc[idx]\n",
    "df_shuffled"
   ],
   "metadata": {
    "collapsed": false,
    "pycharm": {
     "name": "#%%\n"
    }
   }
  },
  {
   "cell_type": "code",
   "execution_count": 12,
   "outputs": [
    {
     "data": {
      "text/plain": "       latitude  longitude  housing_median_age  total_rooms  total_bedrooms  \\\n20046     36.06    -119.01                25.0       1505.0             NaN   \n3024      35.14    -119.46                30.0       2943.0             NaN   \n15663     37.80    -122.44                52.0       3830.0             NaN   \n20484     34.28    -118.72                17.0       3051.0             NaN   \n9814      36.62    -121.93                34.0       2351.0             NaN   \n...         ...        ...                 ...          ...             ...   \n10292     33.88    -117.81                19.0       2265.0           283.0   \n16722     35.48    -120.68                15.0       2608.0           525.0   \n11730     38.98    -120.91                13.0       7689.0          1415.0   \n5993      34.09    -117.72                36.0       1473.0           328.0   \n15993     37.76    -122.47                34.0       2807.0           487.0   \n\n       population  households  median_income  median_house_value  \n20046      1392.0       359.0         1.6812             47700.0  \n3024       1565.0       584.0         2.5313             45800.0  \n15663      1310.0       963.0         3.4801            500001.0  \n20484      1705.0       495.0         5.7376            218600.0  \n9814       1063.0       428.0         3.7250            278000.0  \n...           ...         ...            ...                 ...  \n10292       904.0       279.0         9.2327            461300.0  \n16722      1351.0       502.0         2.7798            205800.0  \n11730      3264.0      1198.0         3.6530            146800.0  \n5993        785.0       299.0         3.2566            151800.0  \n15993      1152.0       445.0         5.1893            420300.0  \n\n[12384 rows x 9 columns]",
      "text/html": "<div>\n<style scoped>\n    .dataframe tbody tr th:only-of-type {\n        vertical-align: middle;\n    }\n\n    .dataframe tbody tr th {\n        vertical-align: top;\n    }\n\n    .dataframe thead th {\n        text-align: right;\n    }\n</style>\n<table border=\"1\" class=\"dataframe\">\n  <thead>\n    <tr style=\"text-align: right;\">\n      <th></th>\n      <th>latitude</th>\n      <th>longitude</th>\n      <th>housing_median_age</th>\n      <th>total_rooms</th>\n      <th>total_bedrooms</th>\n      <th>population</th>\n      <th>households</th>\n      <th>median_income</th>\n      <th>median_house_value</th>\n    </tr>\n  </thead>\n  <tbody>\n    <tr>\n      <th>20046</th>\n      <td>36.06</td>\n      <td>-119.01</td>\n      <td>25.0</td>\n      <td>1505.0</td>\n      <td>NaN</td>\n      <td>1392.0</td>\n      <td>359.0</td>\n      <td>1.6812</td>\n      <td>47700.0</td>\n    </tr>\n    <tr>\n      <th>3024</th>\n      <td>35.14</td>\n      <td>-119.46</td>\n      <td>30.0</td>\n      <td>2943.0</td>\n      <td>NaN</td>\n      <td>1565.0</td>\n      <td>584.0</td>\n      <td>2.5313</td>\n      <td>45800.0</td>\n    </tr>\n    <tr>\n      <th>15663</th>\n      <td>37.80</td>\n      <td>-122.44</td>\n      <td>52.0</td>\n      <td>3830.0</td>\n      <td>NaN</td>\n      <td>1310.0</td>\n      <td>963.0</td>\n      <td>3.4801</td>\n      <td>500001.0</td>\n    </tr>\n    <tr>\n      <th>20484</th>\n      <td>34.28</td>\n      <td>-118.72</td>\n      <td>17.0</td>\n      <td>3051.0</td>\n      <td>NaN</td>\n      <td>1705.0</td>\n      <td>495.0</td>\n      <td>5.7376</td>\n      <td>218600.0</td>\n    </tr>\n    <tr>\n      <th>9814</th>\n      <td>36.62</td>\n      <td>-121.93</td>\n      <td>34.0</td>\n      <td>2351.0</td>\n      <td>NaN</td>\n      <td>1063.0</td>\n      <td>428.0</td>\n      <td>3.7250</td>\n      <td>278000.0</td>\n    </tr>\n    <tr>\n      <th>...</th>\n      <td>...</td>\n      <td>...</td>\n      <td>...</td>\n      <td>...</td>\n      <td>...</td>\n      <td>...</td>\n      <td>...</td>\n      <td>...</td>\n      <td>...</td>\n    </tr>\n    <tr>\n      <th>10292</th>\n      <td>33.88</td>\n      <td>-117.81</td>\n      <td>19.0</td>\n      <td>2265.0</td>\n      <td>283.0</td>\n      <td>904.0</td>\n      <td>279.0</td>\n      <td>9.2327</td>\n      <td>461300.0</td>\n    </tr>\n    <tr>\n      <th>16722</th>\n      <td>35.48</td>\n      <td>-120.68</td>\n      <td>15.0</td>\n      <td>2608.0</td>\n      <td>525.0</td>\n      <td>1351.0</td>\n      <td>502.0</td>\n      <td>2.7798</td>\n      <td>205800.0</td>\n    </tr>\n    <tr>\n      <th>11730</th>\n      <td>38.98</td>\n      <td>-120.91</td>\n      <td>13.0</td>\n      <td>7689.0</td>\n      <td>1415.0</td>\n      <td>3264.0</td>\n      <td>1198.0</td>\n      <td>3.6530</td>\n      <td>146800.0</td>\n    </tr>\n    <tr>\n      <th>5993</th>\n      <td>34.09</td>\n      <td>-117.72</td>\n      <td>36.0</td>\n      <td>1473.0</td>\n      <td>328.0</td>\n      <td>785.0</td>\n      <td>299.0</td>\n      <td>3.2566</td>\n      <td>151800.0</td>\n    </tr>\n    <tr>\n      <th>15993</th>\n      <td>37.76</td>\n      <td>-122.47</td>\n      <td>34.0</td>\n      <td>2807.0</td>\n      <td>487.0</td>\n      <td>1152.0</td>\n      <td>445.0</td>\n      <td>5.1893</td>\n      <td>420300.0</td>\n    </tr>\n  </tbody>\n</table>\n<p>12384 rows × 9 columns</p>\n</div>"
     },
     "execution_count": 12,
     "metadata": {},
     "output_type": "execute_result"
    }
   ],
   "source": [
    "# Split the original dataframe into one dataframe for each step (train, validation, test)\n",
    "df_train = df_shuffled.iloc[:n_train].copy()\n",
    "df_train"
   ],
   "metadata": {
    "collapsed": false,
    "pycharm": {
     "name": "#%%\n"
    }
   }
  },
  {
   "cell_type": "code",
   "execution_count": 13,
   "outputs": [
    {
     "data": {
      "text/plain": "       latitude  longitude  housing_median_age  total_rooms  total_bedrooms  \\\n19660     37.51    -120.85                15.0       1131.0           285.0   \n4415      34.09    -118.25                52.0       1866.0           470.0   \n18113     37.31    -122.02                34.0       2629.0           433.0   \n17673     37.30    -121.88                16.0       2692.0           749.0   \n16992     37.56    -122.27                17.0       3211.0           847.0   \n...         ...        ...                 ...          ...             ...   \n20011     36.05    -119.12                27.0       1575.0           321.0   \n12225     33.65    -116.90                15.0        652.0           149.0   \n1051      38.34    -120.71                16.0       1257.0           231.0   \n14519     32.91    -117.13                16.0       2715.0           581.0   \n11410     33.71    -117.93                10.0       2775.0           717.0   \n\n       population  households  median_income  median_house_value  \n19660       728.0       281.0         1.5531             93100.0  \n4415       1211.0       417.0         2.9350            189400.0  \n18113      1301.0       431.0         6.0830            341400.0  \n17673      1674.0       681.0         2.6763            191100.0  \n16992      1553.0       812.0         4.9434            292100.0  \n...           ...         ...            ...                 ...  \n20011      1063.0       317.0         2.1477             53900.0  \n12225       248.0        97.0         2.1071             93800.0  \n1051        559.0       213.0         4.4531            144300.0  \n14519      1619.0       584.0         4.0000            154700.0  \n11410      1581.0       633.0         4.1366            158800.0  \n\n[4128 rows x 9 columns]",
      "text/html": "<div>\n<style scoped>\n    .dataframe tbody tr th:only-of-type {\n        vertical-align: middle;\n    }\n\n    .dataframe tbody tr th {\n        vertical-align: top;\n    }\n\n    .dataframe thead th {\n        text-align: right;\n    }\n</style>\n<table border=\"1\" class=\"dataframe\">\n  <thead>\n    <tr style=\"text-align: right;\">\n      <th></th>\n      <th>latitude</th>\n      <th>longitude</th>\n      <th>housing_median_age</th>\n      <th>total_rooms</th>\n      <th>total_bedrooms</th>\n      <th>population</th>\n      <th>households</th>\n      <th>median_income</th>\n      <th>median_house_value</th>\n    </tr>\n  </thead>\n  <tbody>\n    <tr>\n      <th>19660</th>\n      <td>37.51</td>\n      <td>-120.85</td>\n      <td>15.0</td>\n      <td>1131.0</td>\n      <td>285.0</td>\n      <td>728.0</td>\n      <td>281.0</td>\n      <td>1.5531</td>\n      <td>93100.0</td>\n    </tr>\n    <tr>\n      <th>4415</th>\n      <td>34.09</td>\n      <td>-118.25</td>\n      <td>52.0</td>\n      <td>1866.0</td>\n      <td>470.0</td>\n      <td>1211.0</td>\n      <td>417.0</td>\n      <td>2.9350</td>\n      <td>189400.0</td>\n    </tr>\n    <tr>\n      <th>18113</th>\n      <td>37.31</td>\n      <td>-122.02</td>\n      <td>34.0</td>\n      <td>2629.0</td>\n      <td>433.0</td>\n      <td>1301.0</td>\n      <td>431.0</td>\n      <td>6.0830</td>\n      <td>341400.0</td>\n    </tr>\n    <tr>\n      <th>17673</th>\n      <td>37.30</td>\n      <td>-121.88</td>\n      <td>16.0</td>\n      <td>2692.0</td>\n      <td>749.0</td>\n      <td>1674.0</td>\n      <td>681.0</td>\n      <td>2.6763</td>\n      <td>191100.0</td>\n    </tr>\n    <tr>\n      <th>16992</th>\n      <td>37.56</td>\n      <td>-122.27</td>\n      <td>17.0</td>\n      <td>3211.0</td>\n      <td>847.0</td>\n      <td>1553.0</td>\n      <td>812.0</td>\n      <td>4.9434</td>\n      <td>292100.0</td>\n    </tr>\n    <tr>\n      <th>...</th>\n      <td>...</td>\n      <td>...</td>\n      <td>...</td>\n      <td>...</td>\n      <td>...</td>\n      <td>...</td>\n      <td>...</td>\n      <td>...</td>\n      <td>...</td>\n    </tr>\n    <tr>\n      <th>20011</th>\n      <td>36.05</td>\n      <td>-119.12</td>\n      <td>27.0</td>\n      <td>1575.0</td>\n      <td>321.0</td>\n      <td>1063.0</td>\n      <td>317.0</td>\n      <td>2.1477</td>\n      <td>53900.0</td>\n    </tr>\n    <tr>\n      <th>12225</th>\n      <td>33.65</td>\n      <td>-116.90</td>\n      <td>15.0</td>\n      <td>652.0</td>\n      <td>149.0</td>\n      <td>248.0</td>\n      <td>97.0</td>\n      <td>2.1071</td>\n      <td>93800.0</td>\n    </tr>\n    <tr>\n      <th>1051</th>\n      <td>38.34</td>\n      <td>-120.71</td>\n      <td>16.0</td>\n      <td>1257.0</td>\n      <td>231.0</td>\n      <td>559.0</td>\n      <td>213.0</td>\n      <td>4.4531</td>\n      <td>144300.0</td>\n    </tr>\n    <tr>\n      <th>14519</th>\n      <td>32.91</td>\n      <td>-117.13</td>\n      <td>16.0</td>\n      <td>2715.0</td>\n      <td>581.0</td>\n      <td>1619.0</td>\n      <td>584.0</td>\n      <td>4.0000</td>\n      <td>154700.0</td>\n    </tr>\n    <tr>\n      <th>11410</th>\n      <td>33.71</td>\n      <td>-117.93</td>\n      <td>10.0</td>\n      <td>2775.0</td>\n      <td>717.0</td>\n      <td>1581.0</td>\n      <td>633.0</td>\n      <td>4.1366</td>\n      <td>158800.0</td>\n    </tr>\n  </tbody>\n</table>\n<p>4128 rows × 9 columns</p>\n</div>"
     },
     "execution_count": 13,
     "metadata": {},
     "output_type": "execute_result"
    }
   ],
   "source": [
    "df_val = df_shuffled.iloc[n_train:n_train+n_val].copy()\n",
    "df_val"
   ],
   "metadata": {
    "collapsed": false,
    "pycharm": {
     "name": "#%%\n"
    }
   }
  },
  {
   "cell_type": "code",
   "execution_count": 14,
   "outputs": [
    {
     "data": {
      "text/plain": "       latitude  longitude  housing_median_age  total_rooms  total_bedrooms  \\\n9221      37.13    -120.26                33.0       1239.0           250.0   \n10234     33.86    -117.91                26.0       2296.0           570.0   \n4763      34.04    -118.36                48.0       1769.0           429.0   \n9062      34.69    -118.15                32.0       1300.0           234.0   \n1874      38.93    -119.97                24.0        856.0           185.0   \n...         ...        ...                 ...          ...             ...   \n11284     33.78    -117.96                35.0       1330.0           201.0   \n11964     34.02    -117.43                33.0       3084.0           570.0   \n5390      34.03    -118.38                36.0       2101.0           569.0   \n860       37.58    -121.96                15.0       3575.0           597.0   \n15795     37.77    -122.42                52.0       4226.0          1315.0   \n\n       population  households  median_income  median_house_value  \n9221        648.0       227.0         2.0278             58800.0  \n10234      1415.0       527.0         2.4732            165800.0  \n4763        993.0       405.0         2.3214            139400.0  \n9062        712.0       249.0         3.2500            107500.0  \n1874        388.0       108.0         3.1806            107200.0  \n...           ...         ...            ...                 ...  \n11284       658.0       217.0         6.3700            229200.0  \n11964      1753.0       449.0         3.0500             97800.0  \n5390       1756.0       527.0         2.9344            222100.0  \n860        1777.0       559.0         5.7192            283500.0  \n15795      2619.0      1242.0         2.5755            325000.0  \n\n[4128 rows x 9 columns]",
      "text/html": "<div>\n<style scoped>\n    .dataframe tbody tr th:only-of-type {\n        vertical-align: middle;\n    }\n\n    .dataframe tbody tr th {\n        vertical-align: top;\n    }\n\n    .dataframe thead th {\n        text-align: right;\n    }\n</style>\n<table border=\"1\" class=\"dataframe\">\n  <thead>\n    <tr style=\"text-align: right;\">\n      <th></th>\n      <th>latitude</th>\n      <th>longitude</th>\n      <th>housing_median_age</th>\n      <th>total_rooms</th>\n      <th>total_bedrooms</th>\n      <th>population</th>\n      <th>households</th>\n      <th>median_income</th>\n      <th>median_house_value</th>\n    </tr>\n  </thead>\n  <tbody>\n    <tr>\n      <th>9221</th>\n      <td>37.13</td>\n      <td>-120.26</td>\n      <td>33.0</td>\n      <td>1239.0</td>\n      <td>250.0</td>\n      <td>648.0</td>\n      <td>227.0</td>\n      <td>2.0278</td>\n      <td>58800.0</td>\n    </tr>\n    <tr>\n      <th>10234</th>\n      <td>33.86</td>\n      <td>-117.91</td>\n      <td>26.0</td>\n      <td>2296.0</td>\n      <td>570.0</td>\n      <td>1415.0</td>\n      <td>527.0</td>\n      <td>2.4732</td>\n      <td>165800.0</td>\n    </tr>\n    <tr>\n      <th>4763</th>\n      <td>34.04</td>\n      <td>-118.36</td>\n      <td>48.0</td>\n      <td>1769.0</td>\n      <td>429.0</td>\n      <td>993.0</td>\n      <td>405.0</td>\n      <td>2.3214</td>\n      <td>139400.0</td>\n    </tr>\n    <tr>\n      <th>9062</th>\n      <td>34.69</td>\n      <td>-118.15</td>\n      <td>32.0</td>\n      <td>1300.0</td>\n      <td>234.0</td>\n      <td>712.0</td>\n      <td>249.0</td>\n      <td>3.2500</td>\n      <td>107500.0</td>\n    </tr>\n    <tr>\n      <th>1874</th>\n      <td>38.93</td>\n      <td>-119.97</td>\n      <td>24.0</td>\n      <td>856.0</td>\n      <td>185.0</td>\n      <td>388.0</td>\n      <td>108.0</td>\n      <td>3.1806</td>\n      <td>107200.0</td>\n    </tr>\n    <tr>\n      <th>...</th>\n      <td>...</td>\n      <td>...</td>\n      <td>...</td>\n      <td>...</td>\n      <td>...</td>\n      <td>...</td>\n      <td>...</td>\n      <td>...</td>\n      <td>...</td>\n    </tr>\n    <tr>\n      <th>11284</th>\n      <td>33.78</td>\n      <td>-117.96</td>\n      <td>35.0</td>\n      <td>1330.0</td>\n      <td>201.0</td>\n      <td>658.0</td>\n      <td>217.0</td>\n      <td>6.3700</td>\n      <td>229200.0</td>\n    </tr>\n    <tr>\n      <th>11964</th>\n      <td>34.02</td>\n      <td>-117.43</td>\n      <td>33.0</td>\n      <td>3084.0</td>\n      <td>570.0</td>\n      <td>1753.0</td>\n      <td>449.0</td>\n      <td>3.0500</td>\n      <td>97800.0</td>\n    </tr>\n    <tr>\n      <th>5390</th>\n      <td>34.03</td>\n      <td>-118.38</td>\n      <td>36.0</td>\n      <td>2101.0</td>\n      <td>569.0</td>\n      <td>1756.0</td>\n      <td>527.0</td>\n      <td>2.9344</td>\n      <td>222100.0</td>\n    </tr>\n    <tr>\n      <th>860</th>\n      <td>37.58</td>\n      <td>-121.96</td>\n      <td>15.0</td>\n      <td>3575.0</td>\n      <td>597.0</td>\n      <td>1777.0</td>\n      <td>559.0</td>\n      <td>5.7192</td>\n      <td>283500.0</td>\n    </tr>\n    <tr>\n      <th>15795</th>\n      <td>37.77</td>\n      <td>-122.42</td>\n      <td>52.0</td>\n      <td>4226.0</td>\n      <td>1315.0</td>\n      <td>2619.0</td>\n      <td>1242.0</td>\n      <td>2.5755</td>\n      <td>325000.0</td>\n    </tr>\n  </tbody>\n</table>\n<p>4128 rows × 9 columns</p>\n</div>"
     },
     "execution_count": 14,
     "metadata": {},
     "output_type": "execute_result"
    }
   ],
   "source": [
    "df_test = df_shuffled.iloc[n_train+n_val:].copy()\n",
    "df_test"
   ],
   "metadata": {
    "collapsed": false,
    "pycharm": {
     "name": "#%%\n"
    }
   }
  },
  {
   "cell_type": "code",
   "execution_count": 15,
   "outputs": [
    {
     "data": {
      "text/plain": "array([10.77270764, 10.7320612 , 13.12236738, ..., 11.89683321,\n       11.93032573, 12.9487264 ])"
     },
     "execution_count": 15,
     "metadata": {},
     "output_type": "execute_result"
    }
   ],
   "source": [
    "# Extract the target feature from the datasets\n",
    "y_train = np.log1p(df_train['median_house_value'].values)\n",
    "y_train"
   ],
   "metadata": {
    "collapsed": false,
    "pycharm": {
     "name": "#%%\n"
    }
   }
  },
  {
   "cell_type": "code",
   "execution_count": 16,
   "outputs": [
    {
     "data": {
      "text/plain": "array([11.4414402 , 12.15162174, 12.74081302, ..., 11.87965667,\n       11.9492495 , 11.97540713])"
     },
     "execution_count": 16,
     "metadata": {},
     "output_type": "execute_result"
    }
   ],
   "source": [
    "y_val = np.log1p(df_val['median_house_value'].values)\n",
    "y_val"
   ],
   "metadata": {
    "collapsed": false,
    "pycharm": {
     "name": "#%%\n"
    }
   }
  },
  {
   "cell_type": "code",
   "execution_count": 17,
   "outputs": [
    {
     "data": {
      "text/plain": "array([10.98191414, 12.01854355, 11.84510995, ..., 12.31088751,\n       12.55497093, 12.69158354])"
     },
     "execution_count": 17,
     "metadata": {},
     "output_type": "execute_result"
    }
   ],
   "source": [
    "y_test = np.log1p(df_test['median_house_value'].values)\n",
    "y_test"
   ],
   "metadata": {
    "collapsed": false,
    "pycharm": {
     "name": "#%%\n"
    }
   }
  },
  {
   "cell_type": "code",
   "execution_count": 18,
   "outputs": [],
   "source": [
    "# Remove target features from their datasets\n",
    "del df_train['median_house_value']\n",
    "del df_val['median_house_value']\n",
    "del df_test['median_house_value']"
   ],
   "metadata": {
    "collapsed": false,
    "pycharm": {
     "name": "#%%\n"
    }
   }
  },
  {
   "cell_type": "markdown",
   "source": [
    "### Question 3\n",
    "\n",
    "* We need to deal with missing values for the column from Q1.\n",
    "* We have two options: fill it with 0 or with the mean of this variable.\n",
    "* Try both options. For each, train a linear regression model without regularization using the code from the lessons.\n",
    "* For computing the mean, use the training only!\n",
    "* Use the validation dataset to evaluate the models and compare the RMSE of each option.\n",
    "* Round the RMSE scores to 2 decimal digits using `round(score, 2)`\n",
    "* Which option gives better RMSE?\n",
    "\n",
    "Options:\n",
    "- With 0\n",
    "- With mean\n",
    "- Both are equally good"
   ],
   "metadata": {
    "collapsed": false,
    "pycharm": {
     "name": "#%% md\n"
    }
   }
  },
  {
   "cell_type": "code",
   "execution_count": 19,
   "outputs": [],
   "source": [
    "# Define generic shuffle and split function\n",
    "def shuffle_and_split(df: pd.DataFrame,\n",
    "                      seed = 42,\n",
    "                      p_train: float = 0.6,\n",
    "                      p_val: float = 0.2,\n",
    "                      p_test: float = 0.2,\n",
    "                      filler: str | None = 'zero'):\n",
    "\n",
    "    # Work out split values\n",
    "    assert p_train + p_val + p_test == 1, 'Invalid split.'\n",
    "    n = len(df)\n",
    "    n_val = int(n * p_val)\n",
    "    n_test = int(n * p_test)\n",
    "    n_train = n - n_val - n_test\n",
    "\n",
    "    # Shuffle\n",
    "    np.random.seed(seed)\n",
    "    idx = np.arange(n)\n",
    "    np.random.shuffle(idx)\n",
    "\n",
    "    # Split\n",
    "    df_shuffled = df.iloc[idx]\n",
    "    df_train = df_shuffled[:n_train].copy()\n",
    "    df_val = df_shuffled[n_train:n_train+n_val].copy()\n",
    "    df_test = df_shuffled[n_train+n_val:].copy()\n",
    "\n",
    "    # Fill nulls\n",
    "    if filler == 'zero':\n",
    "        # Fill with zeros\n",
    "        df_train.fillna(0, inplace=True)\n",
    "        df_val.fillna(0, inplace=True)\n",
    "        df_test.fillna(0, inplace=True)\n",
    "    elif filler == 'mean':\n",
    "        # Fill with train dataset mean value\n",
    "        df_mean = df_train.mean()\n",
    "        df_train.fillna(df_mean, inplace=True)\n",
    "        df_val.fillna(df_mean, inplace=True)\n",
    "        df_test.fillna(df_mean, inplace=True)\n",
    "    else:\n",
    "        # Unhandled\n",
    "        print(f\"Unhandled filler '{filler}'.\")\n",
    "        pass\n",
    "\n",
    "    df_train.drop('median_house_value', axis=1).head(5)\n",
    "\n",
    "    # Extract features\n",
    "    X_train = df_train.drop('median_house_value', axis=1).values\n",
    "    X_val = df_val.drop('median_house_value', axis=1).values\n",
    "    X_test = df_test.drop('median_house_value', axis=1).values\n",
    "\n",
    "    # Extract targets\n",
    "    y_train = np.log1p(df_train['median_house_value'].values)\n",
    "    y_val = np.log1p(df_val['median_house_value'].values)\n",
    "    y_test = np.log1p(df_test['median_house_value'].values)\n",
    "\n",
    "    # Return features and targets\n",
    "    return X_train, X_val, X_test, y_train, y_val, y_test"
   ],
   "metadata": {
    "collapsed": false,
    "pycharm": {
     "name": "#%%\n"
    }
   }
  },
  {
   "cell_type": "code",
   "execution_count": 20,
   "outputs": [],
   "source": [
    "# Define linear regression training function\n",
    "def train(X, y):\n",
    "    ones = np.ones(X.shape[0])\n",
    "    X = np.column_stack([ones, X])\n",
    "\n",
    "    XTX = X.T @ X\n",
    "    XTX_inv = np.linalg.inv(XTX)\n",
    "    w = XTX_inv @ X.T @ y\n",
    "\n",
    "    return w[0], w[1:]"
   ],
   "metadata": {
    "collapsed": false,
    "pycharm": {
     "name": "#%%\n"
    }
   }
  },
  {
   "cell_type": "code",
   "execution_count": 21,
   "outputs": [],
   "source": [
    "# Define function to get RMSE on a prediction\n",
    "def rmse(y, y_pred) -> float:\n",
    "    error = y_pred - y\n",
    "    mse = (error ** 2).mean()\n",
    "\n",
    "    return np.sqrt(mse)"
   ],
   "metadata": {
    "collapsed": false,
    "pycharm": {
     "name": "#%%\n"
    }
   }
  },
  {
   "cell_type": "code",
   "execution_count": 22,
   "outputs": [],
   "source": [
    "# Define function to compare target and prediction visually (from the course notebook)\n",
    "def plot_compare(values, predictions):\n",
    "    plt.figure(figsize=(6, 4))\n",
    "\n",
    "    sns.histplot(values, label='target', color='#222222', alpha=0.6, bins=40)\n",
    "    sns.histplot(predictions, label='prediction', color='#aaaaaa', alpha=0.8, bins=40)\n",
    "\n",
    "    plt.legend()\n",
    "\n",
    "    plt.ylabel('Frequency')\n",
    "    plt.xlabel('Log(Price + 1)')\n",
    "    plt.title('Predictions vs actual distribution')\n",
    "\n",
    "    plt.show()"
   ],
   "metadata": {
    "collapsed": false,
    "pycharm": {
     "name": "#%%\n"
    }
   }
  },
  {
   "cell_type": "code",
   "execution_count": 23,
   "outputs": [
    {
     "name": "stdout",
     "output_type": "stream",
     "text": [
      "0.33 (0.3295330365225666)\n"
     ]
    },
    {
     "data": {
      "text/plain": "<Figure size 600x400 with 1 Axes>",
      "image/png": "[encoded data removed]"
     },
     "metadata": {},
     "output_type": "display_data"
    },
    {
     "name": "stdout",
     "output_type": "stream",
     "text": [
      "0.33 (0.3290195439006052)\n"
     ]
    },
    {
     "data": {
      "text/plain": "<Figure size 600x400 with 1 Axes>",
      "image/png": "[encoded data removed]"
     },
     "metadata": {},
     "output_type": "display_data"
    }
   ],
   "source": [
    "# Run experiments\n",
    "for f in ['zero', 'mean']:\n",
    "    # Prep\n",
    "    X_train, X_val, _, y_train, y_val, _ = shuffle_and_split(df, seed=42, filler=f)\n",
    "    # Train\n",
    "    w_0, w = train(X_train, y_train)\n",
    "    # Predict (on validation)\n",
    "    y_pred = w_0 + (X_val @ w)\n",
    "    # Get RMSE on validation dataset prediction\n",
    "    val_rmse = rmse(y_val, y_pred)\n",
    "\n",
    "    # Output\n",
    "    print(f'{round(val_rmse, 2)} ({val_rmse})')\n",
    "    plot_compare(y_val, y_pred)"
   ],
   "metadata": {
    "collapsed": false,
    "pycharm": {
     "name": "#%%\n"
    }
   }
  },
  {
   "cell_type": "markdown",
   "source": [
    "The two options give the same RMSE of `0.33` (considering only the first two decimal values)."
   ],
   "metadata": {
    "collapsed": false,
    "pycharm": {
     "name": "#%% md\n"
    }
   }
  },
  {
   "cell_type": "markdown",
   "source": [
    "### Question 4\n",
    "\n",
    "* Now let's train a regularized linear regression.\n",
    "* For this question, fill the NAs with 0.\n",
    "* Try different values of `r` from this list: `[0, 0.000001, 0.0001, 0.001, 0.01, 0.1, 1, 5, 10]`.\n",
    "* Use RMSE to evaluate the model on the validation dataset.\n",
    "* Round the RMSE scores to 2 decimal digits.\n",
    "* Which `r` gives the best RMSE?\n",
    "\n",
    "If there are multiple options, select the smallest `r`.\n",
    "\n",
    "Options:\n",
    "- 0\n",
    "- 0.000001\n",
    "- 0.001\n",
    "- 0.0001"
   ],
   "metadata": {
    "collapsed": false,
    "pycharm": {
     "name": "#%% md\n"
    }
   },
   "outputs": []
  },
  {
   "cell_type": "code",
   "execution_count": 24,
   "outputs": [],
   "source": [
    "def train_with_regularization(X, y, r=0.0):\n",
    "    ones = np.ones(X.shape[0])\n",
    "    X = np.column_stack([ones, X])\n",
    "\n",
    "    XTX = X.T @ X\n",
    "    reg = r * np.eye(XTX.shape[0])\n",
    "    XTX = XTX + reg\n",
    "\n",
    "    XTX_inv = np.linalg.inv(XTX)\n",
    "    w = XTX_inv @ X.T @ y\n",
    "\n",
    "    return w[0], w[1:]"
   ],
   "metadata": {
    "collapsed": false,
    "pycharm": {
     "name": "#%%\n"
    }
   }
  },
  {
   "cell_type": "code",
   "execution_count": 25,
   "outputs": [
    {
     "name": "stdout",
     "output_type": "stream",
     "text": [
      "[r:  0.000000] RMSE: 0.33 (0.3295330365225666)\n",
      "[r:  0.000001] RMSE: 0.33 (0.32953303616538965)\n",
      "[r:  0.000100] RMSE: 0.33 (0.32953300097010546)\n",
      "[r:  0.001000] RMSE: 0.33 (0.3295327038668524)\n",
      "[r:  0.010000] RMSE: 0.33 (0.32953193659968616)\n",
      "[r:  0.100000] RMSE: 0.33 (0.32969472053956445)\n",
      "[r:  1.000000] RMSE: 0.33 (0.3337887220006225)\n",
      "[r:  5.000000] RMSE: 0.34 (0.3392485345504943)\n",
      "[r: 10.000000] RMSE: 0.34 (0.3406063807809715)\n"
     ]
    },
    {
     "data": {
      "text/plain": "r       0.010000\nrmse    0.329532\nName: 4, dtype: float64"
     },
     "execution_count": 25,
     "metadata": {},
     "output_type": "execute_result"
    }
   ],
   "source": [
    "RMSEs: list[tuple[float, float]] = list()\n",
    "for r in [0, 0.000001, 0.0001, 0.001, 0.01, 0.1, 1, 5, 10]:\n",
    "    r = float(r)\n",
    "\n",
    "    # Prep\n",
    "    X_train, X_val, _, y_train, y_val, _ = shuffle_and_split(df, seed=42, filler='zero')\n",
    "    # Train\n",
    "    w_0, w = train_with_regularization(X_train, y_train, r)\n",
    "    # Predict (on validation)\n",
    "    y_pred = w_0 + (X_val @ w)\n",
    "    # Get RMSE on validation dataset prediction\n",
    "    val_rmse = rmse(y_val, y_pred)\n",
    "\n",
    "    RMSEs.append((r, val_rmse))\n",
    "\n",
    "for r, val_rmse in RMSEs:\n",
    "    # Output\n",
    "    print(f'[r: {r:9.6f}] RMSE: {round(val_rmse, 2)} ({val_rmse})')\n",
    "\n",
    "df_reg = pd.DataFrame(RMSEs, columns=['r', 'rmse'])\n",
    "df_reg.iloc[df_reg['rmse'].idxmin()]"
   ],
   "metadata": {
    "collapsed": false,
    "pycharm": {
     "name": "#%%\n"
    }
   }
  },
  {
   "cell_type": "markdown",
   "source": [
    "Given the question requirements, the minimum RMSE is when `r` equals `0` (as zero is the minimum `r` value where the RMSE is `0.33`).\n",
    "Without the truncation, the minimum RMSE would be when `r` is equal to `0.01`."
   ],
   "metadata": {
    "collapsed": false,
    "pycharm": {
     "name": "#%% md\n"
    }
   }
  },
  {
   "cell_type": "markdown",
   "source": [
    "### Question 5\n",
    "\n",
    "* We used seed 42 for splitting the data. Let's find out how selecting the seed influences our score.\n",
    "* Try different seed values: `[0, 1, 2, 3, 4, 5, 6, 7, 8, 9]`.\n",
    "* For each seed, do the train/validation/test split with 60%/20%/20% distribution.\n",
    "* Fill the missing values with 0 and train a model without regularization.\n",
    "* For each seed, evaluate the model on the validation dataset and collect the RMSE scores.\n",
    "* What's the standard deviation of all the scores? To compute the standard deviation, use `np.std`.\n",
    "* Round the result to 3 decimal digits (`round(std, 3)`)\n",
    "\n",
    "> Note: Standard deviation shows how different the values are.\n",
    "> If it's low, then all values are approximately the same.\n",
    "> If it's high, the values are different.\n",
    "> If standard deviation of scores is low, then our model is *stable*.\n",
    "\n",
    "Options:\n",
    "- 0.16\n",
    "- 0.00005\n",
    "- 0.005\n",
    "- 0.15555"
   ],
   "metadata": {
    "collapsed": false,
    "pycharm": {
     "name": "#%% md\n"
    }
   },
   "outputs": []
  },
  {
   "cell_type": "code",
   "execution_count": 26,
   "outputs": [
    {
     "name": "stdout",
     "output_type": "stream",
     "text": [
      "[(0, 0.3388430480530227),\n",
      " (1, 0.33623872559576196),\n",
      " (2, 0.3320912318851742),\n",
      " (3, 0.3405153609035862),\n",
      " (4, 0.3389024066574012),\n",
      " (5, 0.34348667257199517),\n",
      " (6, 0.3451980953099665),\n",
      " (7, 0.3395989927404755),\n",
      " (8, 0.3466230873183227),\n",
      " (9, 0.33659261241553895)]\n"
     ]
    }
   ],
   "source": [
    "seeds = [0, 1, 2, 3, 4, 5, 6, 7, 8, 9]\n",
    "\n",
    "RMSEs: list[tuple[int, float]] = list()\n",
    "for s in seeds:\n",
    "    # Prep\n",
    "    X_train, X_val, X_test, y_train, y_val, y_test = shuffle_and_split(df, s)\n",
    "    # Train\n",
    "    w0, w = train(X_train, y_train)\n",
    "    # Predict\n",
    "    y_pred = w0 + (X_val @ w)\n",
    "    # Get RMSE\n",
    "    val_rmse = rmse(y_val, y_pred)\n",
    "\n",
    "    # Register iteration RMSE\n",
    "    RMSEs.append((s, val_rmse))\n",
    "\n",
    "# Show RMSEs\n",
    "pprint(RMSEs)"
   ],
   "metadata": {
    "collapsed": false,
    "pycharm": {
     "name": "#%%\n"
    }
   }
  },
  {
   "cell_type": "code",
   "execution_count": 27,
   "outputs": [
    {
     "name": "stdout",
     "output_type": "stream",
     "text": [
      "0.004 (0.004170771946536046)\n"
     ]
    }
   ],
   "source": [
    "std = np.std([t[1] for t in RMSEs])\n",
    "rounded_std = round(std, 3)\n",
    "\n",
    "print(f'{rounded_std} ({std})')"
   ],
   "metadata": {
    "collapsed": false,
    "pycharm": {
     "name": "#%%\n"
    }
   }
  },
  {
   "cell_type": "markdown",
   "source": [
    "The standard deviation is `0.004` (`0.004170771946536046`).\n",
    "The closest value from the proposed answers is `0.005`."
   ],
   "metadata": {
    "collapsed": false,
    "pycharm": {
     "name": "#%% md\n"
    }
   }
  },
  {
   "cell_type": "markdown",
   "source": [
    "### Question 6\n",
    "\n",
    "* Split the dataset like previously, use seed 9.\n",
    "* Combine train and validation datasets.\n",
    "* Fill the missing values with 0 and train a model with `r=0.001`.\n",
    "* What's the RMSE on the test dataset?\n",
    "\n",
    "Options:\n",
    "- 0.35\n",
    "- 0.135\n",
    "- 0.450\n",
    "- 0.245"
   ],
   "metadata": {
    "collapsed": false,
    "pycharm": {
     "name": "#%% md\n"
    }
   }
  },
  {
   "cell_type": "code",
   "execution_count": 28,
   "outputs": [
    {
     "data": {
      "text/plain": "0.3453168914373215"
     },
     "execution_count": 28,
     "metadata": {},
     "output_type": "execute_result"
    }
   ],
   "source": [
    "# Prep\n",
    "X_train, X_val, X_test, y_train, y_val, y_test = shuffle_and_split(df, seed=9, filler='zero')\n",
    "X_train = np.concatenate((X_train, X_val), axis=0)\n",
    "y_train = np.concatenate((y_train, y_val), axis=0)\n",
    "\n",
    "# Train\n",
    "w0, w = train_with_regularization(X_train, y_train, r=0.001)\n",
    "# Predict\n",
    "y_pred = w0 + (X_test @ w)\n",
    "\n",
    "# Get RMSE\n",
    "rmse(y_test, y_pred)"
   ],
   "metadata": {
    "collapsed": false,
    "pycharm": {
     "name": "#%%\n"
    }
   }
  }
 ],
 "metadata": {
  "kernelspec": {
   "display_name": "Python 3",
   "language": "python",
   "name": "python3"
  },
  "language_info": {
   "codemirror_mode": {
    "name": "ipython",
    "version": 2
   },
   "file_extension": ".py",
   "mimetype": "text/x-python",
   "name": "python",
   "nbconvert_exporter": "python",
   "pygments_lexer": "ipython2",
   "version": "2.7.6"
  }
 },
 "nbformat": 4,
 "nbformat_minor": 0
}
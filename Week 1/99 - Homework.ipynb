{
 "cells": [
  {
   "cell_type": "markdown",
   "source": [
    "# Week 1 (05 Sep 2022) - Intro"
   ],
   "metadata": {
    "collapsed": false,
    "pycharm": {
     "name": "#%% md\n"
    }
   }
  },
  {
   "cell_type": "markdown",
   "source": [
    "### Question 1\n",
    "\n",
    "What's the version of NumPy that you installed?\n",
    "\n",
    "You can get the version information using the `__version__` field."
   ],
   "metadata": {
    "collapsed": false,
    "pycharm": {
     "name": "#%% md\n"
    }
   }
  },
  {
   "cell_type": "code",
   "execution_count": 1,
   "metadata": {
    "collapsed": true,
    "pycharm": {
     "name": "#%%\n"
    }
   },
   "outputs": [],
   "source": [
    "import numpy as np"
   ]
  },
  {
   "cell_type": "code",
   "execution_count": 2,
   "outputs": [
    {
     "data": {
      "text/plain": "'1.23.2'"
     },
     "execution_count": 2,
     "metadata": {},
     "output_type": "execute_result"
    }
   ],
   "source": [
    "np.__version__"
   ],
   "metadata": {
    "collapsed": false,
    "pycharm": {
     "name": "#%%\n"
    }
   }
  },
  {
   "cell_type": "markdown",
   "source": [
    "### Question 2\n",
    "\n",
    "How many records are in the dataset?"
   ],
   "metadata": {
    "collapsed": false,
    "pycharm": {
     "name": "#%% md\n"
    }
   }
  },
  {
   "cell_type": "code",
   "execution_count": 3,
   "outputs": [],
   "source": [
    "import pandas as pd\n",
    "\n",
    "df = pd.read_csv('./resources/car-prices.csv')"
   ],
   "metadata": {
    "collapsed": false,
    "pycharm": {
     "name": "#%%\n"
    }
   }
  },
  {
   "cell_type": "code",
   "execution_count": 4,
   "outputs": [
    {
     "data": {
      "text/plain": "11914"
     },
     "execution_count": 4,
     "metadata": {},
     "output_type": "execute_result"
    }
   ],
   "source": [
    "df.shape[0]"
   ],
   "metadata": {
    "collapsed": false,
    "pycharm": {
     "name": "#%%\n"
    }
   }
  },
  {
   "cell_type": "markdown",
   "source": [
    "### Question 3\n",
    "\n",
    "Who are the most frequent car manufacturers (top-3) according to the dataset?\n",
    "\n",
    "> **Note**: You should rely on \"Make\" column in this question."
   ],
   "metadata": {
    "collapsed": false,
    "pycharm": {
     "name": "#%% md\n"
    }
   }
  },
  {
   "cell_type": "code",
   "execution_count": 5,
   "outputs": [
    {
     "data": {
      "text/plain": "Make\nChevrolet     1123\nFord           881\nVolkswagen     809\ndtype: int64"
     },
     "execution_count": 5,
     "metadata": {},
     "output_type": "execute_result"
    }
   ],
   "source": [
    "# Group by manufacturer\n",
    "df_top_manufacturers = df.groupby(df['Make'])\n",
    "# Count the rows in each group\n",
    "df_top_manufacturers = df_top_manufacturers.size()\n",
    "# Sort by count in descending order\n",
    "df_top_manufacturers = df_top_manufacturers.sort_values(ascending=False)\n",
    "# Take only the top 3 manufacturers\n",
    "df_top_manufacturers = df_top_manufacturers.head(3)\n",
    "\n",
    "df_top_manufacturers"
   ],
   "metadata": {
    "collapsed": false,
    "pycharm": {
     "name": "#%%\n"
    }
   }
  },
  {
   "cell_type": "markdown",
   "source": [
    "### Question 4\n",
    "\n",
    "What's the number of unique Audi car models in the dataset?"
   ],
   "metadata": {
    "collapsed": false,
    "pycharm": {
     "name": "#%% md\n"
    }
   }
  },
  {
   "cell_type": "code",
   "execution_count": 6,
   "outputs": [
    {
     "data": {
      "text/plain": "34"
     },
     "execution_count": 6,
     "metadata": {},
     "output_type": "execute_result"
    }
   ],
   "source": [
    "# Get only Audi cars\n",
    "df_audi_count = df[df['Make'] == 'Audi']\n",
    "\n",
    "# Get number of unique values in the 'Model' column (= number og unique models)\n",
    "df_audi_count['Model'].nunique()"
   ],
   "metadata": {
    "collapsed": false,
    "pycharm": {
     "name": "#%%\n"
    }
   }
  },
  {
   "cell_type": "markdown",
   "source": [
    "### Question 5\n",
    "\n",
    "How many columns in the dataset have missing values?"
   ],
   "metadata": {
    "collapsed": false,
    "pycharm": {
     "name": "#%% md\n"
    }
   }
  },
  {
   "cell_type": "code",
   "execution_count": 7,
   "outputs": [
    {
     "data": {
      "text/plain": "5"
     },
     "execution_count": 7,
     "metadata": {},
     "output_type": "execute_result"
    }
   ],
   "source": [
    "# Check if a column has at least one null value\n",
    "df_nullable_cols = df.isna().any()\n",
    "# Consider only columns that do\n",
    "df_nullable_cols = df_nullable_cols[df_nullable_cols]\n",
    "\n",
    "# Count them\n",
    "df_nullable_cols.count()"
   ],
   "metadata": {
    "collapsed": false,
    "pycharm": {
     "name": "#%%\n"
    }
   }
  },
  {
   "cell_type": "markdown",
   "source": [
    "### Question 6\n",
    "\n",
    "1. Find the median value of \"Engine Cylinders\" column in the dataset.\n",
    "2. Next, calculate the most frequent value of the same \"Engine Cylinders\".\n",
    "3. Use the `fillna` method to fill the missing values in \"Engine Cylinders\" with the most frequent value from the previous step.\n",
    "4. Now, calculate the median value of \"Engine Cylinders\" once again.\n",
    "\n",
    "Has it changed?\n",
    "\n",
    "> Hint: refer to existing `mode` and `median` functions to complete the task."
   ],
   "metadata": {
    "collapsed": false,
    "pycharm": {
     "name": "#%% md\n"
    }
   }
  },
  {
   "cell_type": "code",
   "execution_count": 8,
   "outputs": [
    {
     "data": {
      "text/plain": "6.0"
     },
     "execution_count": 8,
     "metadata": {},
     "output_type": "execute_result"
    }
   ],
   "source": [
    "df['Engine Cylinders'].median()"
   ],
   "metadata": {
    "collapsed": false,
    "pycharm": {
     "name": "#%%\n"
    }
   }
  },
  {
   "cell_type": "code",
   "execution_count": 9,
   "outputs": [
    {
     "data": {
      "text/plain": "0    4.0\nName: Engine Cylinders, dtype: float64"
     },
     "execution_count": 9,
     "metadata": {},
     "output_type": "execute_result"
    }
   ],
   "source": [
    "df['Engine Cylinders'].mode()"
   ],
   "metadata": {
    "collapsed": false,
    "pycharm": {
     "name": "#%%\n"
    }
   }
  },
  {
   "cell_type": "code",
   "execution_count": 10,
   "outputs": [
    {
     "data": {
      "text/plain": "          Make       Model  Year                Engine Fuel Type  Engine HP  \\\n0          BMW  1 Series M  2011     premium unleaded (required)      335.0   \n1          BMW    1 Series  2011     premium unleaded (required)      300.0   \n2          BMW    1 Series  2011     premium unleaded (required)      300.0   \n3          BMW    1 Series  2011     premium unleaded (required)      230.0   \n4          BMW    1 Series  2011     premium unleaded (required)      230.0   \n...        ...         ...   ...                             ...        ...   \n11909    Acura         ZDX  2012     premium unleaded (required)      300.0   \n11910    Acura         ZDX  2012     premium unleaded (required)      300.0   \n11911    Acura         ZDX  2012     premium unleaded (required)      300.0   \n11912    Acura         ZDX  2013  premium unleaded (recommended)      300.0   \n11913  Lincoln      Zephyr  2006                regular unleaded      221.0   \n\n       Engine Cylinders Transmission Type      Driven_Wheels  Number of Doors  \\\n0                   6.0            MANUAL   rear wheel drive              2.0   \n1                   6.0            MANUAL   rear wheel drive              2.0   \n2                   6.0            MANUAL   rear wheel drive              2.0   \n3                   6.0            MANUAL   rear wheel drive              2.0   \n4                   6.0            MANUAL   rear wheel drive              2.0   \n...                 ...               ...                ...              ...   \n11909               6.0         AUTOMATIC    all wheel drive              4.0   \n11910               6.0         AUTOMATIC    all wheel drive              4.0   \n11911               6.0         AUTOMATIC    all wheel drive              4.0   \n11912               6.0         AUTOMATIC    all wheel drive              4.0   \n11913               6.0         AUTOMATIC  front wheel drive              4.0   \n\n                             Market Category Vehicle Size  Vehicle Style  \\\n0      Factory Tuner,Luxury,High-Performance      Compact          Coupe   \n1                         Luxury,Performance      Compact    Convertible   \n2                    Luxury,High-Performance      Compact          Coupe   \n3                         Luxury,Performance      Compact          Coupe   \n4                                     Luxury      Compact    Convertible   \n...                                      ...          ...            ...   \n11909             Crossover,Hatchback,Luxury      Midsize  4dr Hatchback   \n11910             Crossover,Hatchback,Luxury      Midsize  4dr Hatchback   \n11911             Crossover,Hatchback,Luxury      Midsize  4dr Hatchback   \n11912             Crossover,Hatchback,Luxury      Midsize  4dr Hatchback   \n11913                                 Luxury      Midsize          Sedan   \n\n       highway MPG  city mpg  Popularity   MSRP  \n0               26        19        3916  46135  \n1               28        19        3916  40650  \n2               28        20        3916  36350  \n3               28        18        3916  29450  \n4               28        18        3916  34500  \n...            ...       ...         ...    ...  \n11909           23        16         204  46120  \n11910           23        16         204  56670  \n11911           23        16         204  50620  \n11912           23        16         204  50920  \n11913           26        17          61  28995  \n\n[11914 rows x 16 columns]",
      "text/html": "<div>\n<style scoped>\n    .dataframe tbody tr th:only-of-type {\n        vertical-align: middle;\n    }\n\n    .dataframe tbody tr th {\n        vertical-align: top;\n    }\n\n    .dataframe thead th {\n        text-align: right;\n    }\n</style>\n<table border=\"1\" class=\"dataframe\">\n  <thead>\n    <tr style=\"text-align: right;\">\n      <th></th>\n      <th>Make</th>\n      <th>Model</th>\n      <th>Year</th>\n      <th>Engine Fuel Type</th>\n      <th>Engine HP</th>\n      <th>Engine Cylinders</th>\n      <th>Transmission Type</th>\n      <th>Driven_Wheels</th>\n      <th>Number of Doors</th>\n      <th>Market Category</th>\n      <th>Vehicle Size</th>\n      <th>Vehicle Style</th>\n      <th>highway MPG</th>\n      <th>city mpg</th>\n      <th>Popularity</th>\n      <th>MSRP</th>\n    </tr>\n  </thead>\n  <tbody>\n    <tr>\n      <th>0</th>\n      <td>BMW</td>\n      <td>1 Series M</td>\n      <td>2011</td>\n      <td>premium unleaded (required)</td>\n      <td>335.0</td>\n      <td>6.0</td>\n      <td>MANUAL</td>\n      <td>rear wheel drive</td>\n      <td>2.0</td>\n      <td>Factory Tuner,Luxury,High-Performance</td>\n      <td>Compact</td>\n      <td>Coupe</td>\n      <td>26</td>\n      <td>19</td>\n      <td>3916</td>\n      <td>46135</td>\n    </tr>\n    <tr>\n      <th>1</th>\n      <td>BMW</td>\n      <td>1 Series</td>\n      <td>2011</td>\n      <td>premium unleaded (required)</td>\n      <td>300.0</td>\n      <td>6.0</td>\n      <td>MANUAL</td>\n      <td>rear wheel drive</td>\n      <td>2.0</td>\n      <td>Luxury,Performance</td>\n      <td>Compact</td>\n      <td>Convertible</td>\n      <td>28</td>\n      <td>19</td>\n      <td>3916</td>\n      <td>40650</td>\n    </tr>\n    <tr>\n      <th>2</th>\n      <td>BMW</td>\n      <td>1 Series</td>\n      <td>2011</td>\n      <td>premium unleaded (required)</td>\n      <td>300.0</td>\n      <td>6.0</td>\n      <td>MANUAL</td>\n      <td>rear wheel drive</td>\n      <td>2.0</td>\n      <td>Luxury,High-Performance</td>\n      <td>Compact</td>\n      <td>Coupe</td>\n      <td>28</td>\n      <td>20</td>\n      <td>3916</td>\n      <td>36350</td>\n    </tr>\n    <tr>\n      <th>3</th>\n      <td>BMW</td>\n      <td>1 Series</td>\n      <td>2011</td>\n      <td>premium unleaded (required)</td>\n      <td>230.0</td>\n      <td>6.0</td>\n      <td>MANUAL</td>\n      <td>rear wheel drive</td>\n      <td>2.0</td>\n      <td>Luxury,Performance</td>\n      <td>Compact</td>\n      <td>Coupe</td>\n      <td>28</td>\n      <td>18</td>\n      <td>3916</td>\n      <td>29450</td>\n    </tr>\n    <tr>\n      <th>4</th>\n      <td>BMW</td>\n      <td>1 Series</td>\n      <td>2011</td>\n      <td>premium unleaded (required)</td>\n      <td>230.0</td>\n      <td>6.0</td>\n      <td>MANUAL</td>\n      <td>rear wheel drive</td>\n      <td>2.0</td>\n      <td>Luxury</td>\n      <td>Compact</td>\n      <td>Convertible</td>\n      <td>28</td>\n      <td>18</td>\n      <td>3916</td>\n      <td>34500</td>\n    </tr>\n    <tr>\n      <th>...</th>\n      <td>...</td>\n      <td>...</td>\n      <td>...</td>\n      <td>...</td>\n      <td>...</td>\n      <td>...</td>\n      <td>...</td>\n      <td>...</td>\n      <td>...</td>\n      <td>...</td>\n      <td>...</td>\n      <td>...</td>\n      <td>...</td>\n      <td>...</td>\n      <td>...</td>\n      <td>...</td>\n    </tr>\n    <tr>\n      <th>11909</th>\n      <td>Acura</td>\n      <td>ZDX</td>\n      <td>2012</td>\n      <td>premium unleaded (required)</td>\n      <td>300.0</td>\n      <td>6.0</td>\n      <td>AUTOMATIC</td>\n      <td>all wheel drive</td>\n      <td>4.0</td>\n      <td>Crossover,Hatchback,Luxury</td>\n      <td>Midsize</td>\n      <td>4dr Hatchback</td>\n      <td>23</td>\n      <td>16</td>\n      <td>204</td>\n      <td>46120</td>\n    </tr>\n    <tr>\n      <th>11910</th>\n      <td>Acura</td>\n      <td>ZDX</td>\n      <td>2012</td>\n      <td>premium unleaded (required)</td>\n      <td>300.0</td>\n      <td>6.0</td>\n      <td>AUTOMATIC</td>\n      <td>all wheel drive</td>\n      <td>4.0</td>\n      <td>Crossover,Hatchback,Luxury</td>\n      <td>Midsize</td>\n      <td>4dr Hatchback</td>\n      <td>23</td>\n      <td>16</td>\n      <td>204</td>\n      <td>56670</td>\n    </tr>\n    <tr>\n      <th>11911</th>\n      <td>Acura</td>\n      <td>ZDX</td>\n      <td>2012</td>\n      <td>premium unleaded (required)</td>\n      <td>300.0</td>\n      <td>6.0</td>\n      <td>AUTOMATIC</td>\n      <td>all wheel drive</td>\n      <td>4.0</td>\n      <td>Crossover,Hatchback,Luxury</td>\n      <td>Midsize</td>\n      <td>4dr Hatchback</td>\n      <td>23</td>\n      <td>16</td>\n      <td>204</td>\n      <td>50620</td>\n    </tr>\n    <tr>\n      <th>11912</th>\n      <td>Acura</td>\n      <td>ZDX</td>\n      <td>2013</td>\n      <td>premium unleaded (recommended)</td>\n      <td>300.0</td>\n      <td>6.0</td>\n      <td>AUTOMATIC</td>\n      <td>all wheel drive</td>\n      <td>4.0</td>\n      <td>Crossover,Hatchback,Luxury</td>\n      <td>Midsize</td>\n      <td>4dr Hatchback</td>\n      <td>23</td>\n      <td>16</td>\n      <td>204</td>\n      <td>50920</td>\n    </tr>\n    <tr>\n      <th>11913</th>\n      <td>Lincoln</td>\n      <td>Zephyr</td>\n      <td>2006</td>\n      <td>regular unleaded</td>\n      <td>221.0</td>\n      <td>6.0</td>\n      <td>AUTOMATIC</td>\n      <td>front wheel drive</td>\n      <td>4.0</td>\n      <td>Luxury</td>\n      <td>Midsize</td>\n      <td>Sedan</td>\n      <td>26</td>\n      <td>17</td>\n      <td>61</td>\n      <td>28995</td>\n    </tr>\n  </tbody>\n</table>\n<p>11914 rows × 16 columns</p>\n</div>"
     },
     "execution_count": 10,
     "metadata": {},
     "output_type": "execute_result"
    }
   ],
   "source": [
    "df_filled_cylinders = df.fillna({'Engine Cylinders': 4.0})\n",
    "\n",
    "df_filled_cylinders"
   ],
   "metadata": {
    "collapsed": false,
    "pycharm": {
     "name": "#%%\n"
    }
   }
  },
  {
   "cell_type": "code",
   "execution_count": 11,
   "outputs": [
    {
     "data": {
      "text/plain": "6.0"
     },
     "execution_count": 11,
     "metadata": {},
     "output_type": "execute_result"
    }
   ],
   "source": [
    "df_filled_cylinders['Engine Cylinders'].median()"
   ],
   "metadata": {
    "collapsed": false,
    "pycharm": {
     "name": "#%%\n"
    }
   }
  },
  {
   "cell_type": "code",
   "execution_count": 12,
   "outputs": [
    {
     "data": {
      "text/plain": "<seaborn.axisgrid.FacetGrid at 0x11e27de40>"
     },
     "execution_count": 12,
     "metadata": {},
     "output_type": "execute_result"
    },
    {
     "data": {
      "text/plain": "<Figure size 500x500 with 1 Axes>",
      "image/png": "[encoded data removed]"
     },
     "metadata": {},
     "output_type": "display_data"
    },
    {
     "data": {
      "text/plain": "<Figure size 500x500 with 1 Axes>",
      "image/png": "[encoded data removed]"
     },
     "metadata": {},
     "output_type": "display_data"
    }
   ],
   "source": [
    "import matplotlib.pyplot as plt\n",
    "import seaborn as sns\n",
    "\n",
    "\n",
    "def specs(x, **_):\n",
    "    plt.axvline(np.nanquantile(x, 0.25), c='green', ls='--', lw=1.5)\n",
    "    plt.axvline(x.median(), c='orange', ls='-', lw=5)\n",
    "    plt.axvline(np.nanquantile(x, 0.75), c='green', ls='--', lw=1.5)\n",
    "\n",
    "\n",
    "o = sns.displot(\n",
    "    data=df, x='Engine Cylinders',\n",
    "    facet_kws=dict(sharey=False, sharex=False),\n",
    "    bins=np.arange(df['Engine Cylinders'].min(), df['Engine Cylinders'].max())-0.5,\n",
    ")\n",
    "n = sns.displot(\n",
    "    data=df_filled_cylinders, x='Engine Cylinders',\n",
    "    facet_kws=dict(sharey=False, sharex=False),\n",
    "    bins=np.arange(df_filled_cylinders['Engine Cylinders'].min(), df_filled_cylinders['Engine Cylinders'].max())-0.5,\n",
    ")\n",
    "\n",
    "o.map(specs, 'Engine Cylinders')\n",
    "n.map(specs, 'Engine Cylinders')"
   ],
   "metadata": {
    "collapsed": false,
    "pycharm": {
     "name": "#%%\n"
    }
   }
  },
  {
   "cell_type": "markdown",
   "source": [
    "### Question 7\n",
    "\n",
    "1. Select all the \"Lotus\" cars from the dataset.\n",
    "2. Select only columns \"Engine HP\", \"Engine Cylinders\".\n",
    "3. Now drop all duplicated rows using `drop_duplicates` method (you should get a dataframe with 9 rows).\n",
    "4. Get the underlying NumPy array. Let's call it `X`.\n",
    "5. Compute matrix-matrix multiplication between the transpose of `X` and `X`. To get the transpose, use `X.T`. Let's call the result `XTX`.\n",
    "6. Invert `XTX`.\n",
    "7. Create an array `y` with values `[1100, 800, 750, 850, 1300, 1000, 1000, 1300, 800]`.\n",
    "8. Multiply the inverse of `XTX` with the transpose of `X`, and then multiply the result by `y`. Call the result `w`.\n",
    "9. What's the value of the first element of `w`?\n",
    "\n",
    "> **Note**: You just implemented linear regression. We'll talk about it in the next lesson."
   ],
   "metadata": {
    "collapsed": false,
    "pycharm": {
     "name": "#%% md\n"
    }
   }
  },
  {
   "cell_type": "code",
   "execution_count": 13,
   "outputs": [
    {
     "data": {
      "text/plain": "       Make      Model  Year                Engine Fuel Type  Engine HP  \\\n3912  Lotus      Elise  2009     premium unleaded (required)      189.0   \n3913  Lotus      Elise  2009     premium unleaded (required)      218.0   \n3914  Lotus      Elise  2009     premium unleaded (required)      189.0   \n3915  Lotus      Elise  2010     premium unleaded (required)      189.0   \n3916  Lotus      Elise  2010     premium unleaded (required)      218.0   \n3917  Lotus      Elise  2011     premium unleaded (required)      189.0   \n3918  Lotus      Elise  2011     premium unleaded (required)      217.0   \n3919  Lotus      Elise  2011     premium unleaded (required)      217.0   \n4216  Lotus     Esprit  2002     premium unleaded (required)      350.0   \n4217  Lotus     Esprit  2003     premium unleaded (required)      350.0   \n4218  Lotus     Esprit  2004     premium unleaded (required)      350.0   \n4257  Lotus  Evora 400  2017     premium unleaded (required)      400.0   \n4258  Lotus  Evora 400  2017     premium unleaded (required)      400.0   \n4259  Lotus      Evora  2011     premium unleaded (required)      276.0   \n4260  Lotus      Evora  2011     premium unleaded (required)      276.0   \n4261  Lotus      Evora  2013     premium unleaded (required)      276.0   \n4262  Lotus      Evora  2013     premium unleaded (required)      345.0   \n4263  Lotus      Evora  2013     premium unleaded (required)      345.0   \n4264  Lotus      Evora  2013     premium unleaded (required)      276.0   \n4265  Lotus      Evora  2014     premium unleaded (required)      345.0   \n4266  Lotus      Evora  2014     premium unleaded (required)      276.0   \n4267  Lotus      Evora  2014     premium unleaded (required)      345.0   \n4268  Lotus      Evora  2014     premium unleaded (required)      276.0   \n4292  Lotus      Exige  2009  premium unleaded (recommended)      257.0   \n4293  Lotus      Exige  2009  premium unleaded (recommended)      240.0   \n4294  Lotus      Exige  2010  premium unleaded (recommended)      240.0   \n4295  Lotus      Exige  2011  premium unleaded (recommended)      240.0   \n4296  Lotus      Exige  2011  premium unleaded (recommended)      257.0   \n4297  Lotus      Exige  2011  premium unleaded (recommended)      257.0   \n\n      Engine Cylinders Transmission Type     Driven_Wheels  Number of Doors  \\\n3912               4.0            MANUAL  rear wheel drive              2.0   \n3913               4.0            MANUAL  rear wheel drive              2.0   \n3914               4.0            MANUAL  rear wheel drive              2.0   \n3915               4.0            MANUAL  rear wheel drive              2.0   \n3916               4.0            MANUAL  rear wheel drive              2.0   \n3917               4.0            MANUAL  rear wheel drive              2.0   \n3918               4.0            MANUAL  rear wheel drive              2.0   \n3919               4.0            MANUAL  rear wheel drive              2.0   \n4216               8.0            MANUAL  rear wheel drive              2.0   \n4217               8.0            MANUAL  rear wheel drive              2.0   \n4218               8.0            MANUAL  rear wheel drive              2.0   \n4257               6.0            MANUAL  rear wheel drive              2.0   \n4258               6.0            MANUAL  rear wheel drive              2.0   \n4259               6.0            MANUAL  rear wheel drive              2.0   \n4260               6.0            MANUAL  rear wheel drive              2.0   \n4261               6.0            MANUAL  rear wheel drive              2.0   \n4262               6.0            MANUAL  rear wheel drive              2.0   \n4263               6.0            MANUAL  rear wheel drive              2.0   \n4264               6.0            MANUAL  rear wheel drive              2.0   \n4265               6.0            MANUAL  rear wheel drive              2.0   \n4266               6.0            MANUAL  rear wheel drive              2.0   \n4267               6.0            MANUAL  rear wheel drive              2.0   \n4268               6.0            MANUAL  rear wheel drive              2.0   \n4292               4.0            MANUAL  rear wheel drive              2.0   \n4293               4.0            MANUAL  rear wheel drive              2.0   \n4294               4.0            MANUAL  rear wheel drive              2.0   \n4295               4.0            MANUAL  rear wheel drive              2.0   \n4296               4.0            MANUAL  rear wheel drive              2.0   \n4297               4.0            MANUAL  rear wheel drive              2.0   \n\n              Market Category Vehicle Size Vehicle Style  highway MPG  \\\n3912  Exotic,High-Performance      Compact   Convertible           27   \n3913  Exotic,High-Performance      Compact   Convertible           26   \n3914  Exotic,High-Performance      Compact   Convertible           27   \n3915  Exotic,High-Performance      Compact   Convertible           27   \n3916  Exotic,High-Performance      Compact   Convertible           26   \n3917  Exotic,High-Performance      Compact   Convertible           27   \n3918  Exotic,High-Performance      Compact   Convertible           26   \n3919  Exotic,High-Performance      Compact   Convertible           26   \n4216  Exotic,High-Performance      Compact         Coupe           21   \n4217  Exotic,High-Performance      Compact         Coupe           21   \n4218  Exotic,High-Performance      Compact         Coupe           21   \n4257  Exotic,High-Performance      Compact         Coupe           39   \n4258  Exotic,High-Performance      Compact         Coupe           39   \n4259  Exotic,High-Performance      Compact         Coupe           27   \n4260  Exotic,High-Performance      Compact         Coupe           26   \n4261  Exotic,High-Performance      Compact         Coupe           26   \n4262  Exotic,High-Performance      Compact         Coupe           26   \n4263  Exotic,High-Performance      Compact         Coupe           26   \n4264  Exotic,High-Performance      Compact         Coupe           26   \n4265  Exotic,High-Performance      Compact         Coupe           26   \n4266  Exotic,High-Performance      Compact         Coupe           26   \n4267  Exotic,High-Performance      Compact         Coupe           26   \n4268  Exotic,High-Performance      Compact         Coupe           26   \n4292  Exotic,High-Performance      Compact         Coupe           26   \n4293  Exotic,High-Performance      Compact         Coupe           26   \n4294  Exotic,High-Performance      Compact         Coupe           26   \n4295  Exotic,High-Performance      Compact         Coupe           26   \n4296  Exotic,High-Performance      Compact         Coupe           26   \n4297  Exotic,High-Performance      Compact         Coupe           26   \n\n      city mpg  Popularity   MSRP  \n3912        21         613  43995  \n3913        20         613  54990  \n3914        21         613  47250  \n3915        21         613  47250  \n3916        20         613  54990  \n3917        21         613  51845  \n3918        20         613  54990  \n3919        20         613  57950  \n4216        14         613  89825  \n4217        14         613  90825  \n4218        14         613  93225  \n4257        21         613  91900  \n4258        21         613  91900  \n4259        18         613  64000  \n4260        18         613  65500  \n4261        18         613  66800  \n4262        17         613  77100  \n4263        17         613  78600  \n4264        18         613  68300  \n4265        17         613  78750  \n4266        18         613  68750  \n4267        17         613  79980  \n4268        18         613  69980  \n4292        20         613  74995  \n4293        20         613  65690  \n4294        20         613  65690  \n4295        20         613  65690  \n4296        20         613  70750  \n4297        20         613  74950  ",
      "text/html": "<div>\n<style scoped>\n    .dataframe tbody tr th:only-of-type {\n        vertical-align: middle;\n    }\n\n    .dataframe tbody tr th {\n        vertical-align: top;\n    }\n\n    .dataframe thead th {\n        text-align: right;\n    }\n</style>\n<table border=\"1\" class=\"dataframe\">\n  <thead>\n    <tr style=\"text-align: right;\">\n      <th></th>\n      <th>Make</th>\n      <th>Model</th>\n      <th>Year</th>\n      <th>Engine Fuel Type</th>\n      <th>Engine HP</th>\n      <th>Engine Cylinders</th>\n      <th>Transmission Type</th>\n      <th>Driven_Wheels</th>\n      <th>Number of Doors</th>\n      <th>Market Category</th>\n      <th>Vehicle Size</th>\n      <th>Vehicle Style</th>\n      <th>highway MPG</th>\n      <th>city mpg</th>\n      <th>Popularity</th>\n      <th>MSRP</th>\n    </tr>\n  </thead>\n  <tbody>\n    <tr>\n      <th>3912</th>\n      <td>Lotus</td>\n      <td>Elise</td>\n      <td>2009</td>\n      <td>premium unleaded (required)</td>\n      <td>189.0</td>\n      <td>4.0</td>\n      <td>MANUAL</td>\n      <td>rear wheel drive</td>\n      <td>2.0</td>\n      <td>Exotic,High-Performance</td>\n      <td>Compact</td>\n      <td>Convertible</td>\n      <td>27</td>\n      <td>21</td>\n      <td>613</td>\n      <td>43995</td>\n    </tr>\n    <tr>\n      <th>3913</th>\n      <td>Lotus</td>\n      <td>Elise</td>\n      <td>2009</td>\n      <td>premium unleaded (required)</td>\n      <td>218.0</td>\n      <td>4.0</td>\n      <td>MANUAL</td>\n      <td>rear wheel drive</td>\n      <td>2.0</td>\n      <td>Exotic,High-Performance</td>\n      <td>Compact</td>\n      <td>Convertible</td>\n      <td>26</td>\n      <td>20</td>\n      <td>613</td>\n      <td>54990</td>\n    </tr>\n    <tr>\n      <th>3914</th>\n      <td>Lotus</td>\n      <td>Elise</td>\n      <td>2009</td>\n      <td>premium unleaded (required)</td>\n      <td>189.0</td>\n      <td>4.0</td>\n      <td>MANUAL</td>\n      <td>rear wheel drive</td>\n      <td>2.0</td>\n      <td>Exotic,High-Performance</td>\n      <td>Compact</td>\n      <td>Convertible</td>\n      <td>27</td>\n      <td>21</td>\n      <td>613</td>\n      <td>47250</td>\n    </tr>\n    <tr>\n      <th>3915</th>\n      <td>Lotus</td>\n      <td>Elise</td>\n      <td>2010</td>\n      <td>premium unleaded (required)</td>\n      <td>189.0</td>\n      <td>4.0</td>\n      <td>MANUAL</td>\n      <td>rear wheel drive</td>\n      <td>2.0</td>\n      <td>Exotic,High-Performance</td>\n      <td>Compact</td>\n      <td>Convertible</td>\n      <td>27</td>\n      <td>21</td>\n      <td>613</td>\n      <td>47250</td>\n    </tr>\n    <tr>\n      <th>3916</th>\n      <td>Lotus</td>\n      <td>Elise</td>\n      <td>2010</td>\n      <td>premium unleaded (required)</td>\n      <td>218.0</td>\n      <td>4.0</td>\n      <td>MANUAL</td>\n      <td>rear wheel drive</td>\n      <td>2.0</td>\n      <td>Exotic,High-Performance</td>\n      <td>Compact</td>\n      <td>Convertible</td>\n      <td>26</td>\n      <td>20</td>\n      <td>613</td>\n      <td>54990</td>\n    </tr>\n    <tr>\n      <th>3917</th>\n      <td>Lotus</td>\n      <td>Elise</td>\n      <td>2011</td>\n      <td>premium unleaded (required)</td>\n      <td>189.0</td>\n      <td>4.0</td>\n      <td>MANUAL</td>\n      <td>rear wheel drive</td>\n      <td>2.0</td>\n      <td>Exotic,High-Performance</td>\n      <td>Compact</td>\n      <td>Convertible</td>\n      <td>27</td>\n      <td>21</td>\n      <td>613</td>\n      <td>51845</td>\n    </tr>\n    <tr>\n      <th>3918</th>\n      <td>Lotus</td>\n      <td>Elise</td>\n      <td>2011</td>\n      <td>premium unleaded (required)</td>\n      <td>217.0</td>\n      <td>4.0</td>\n      <td>MANUAL</td>\n      <td>rear wheel drive</td>\n      <td>2.0</td>\n      <td>Exotic,High-Performance</td>\n      <td>Compact</td>\n      <td>Convertible</td>\n      <td>26</td>\n      <td>20</td>\n      <td>613</td>\n      <td>54990</td>\n    </tr>\n    <tr>\n      <th>3919</th>\n      <td>Lotus</td>\n      <td>Elise</td>\n      <td>2011</td>\n      <td>premium unleaded (required)</td>\n      <td>217.0</td>\n      <td>4.0</td>\n      <td>MANUAL</td>\n      <td>rear wheel drive</td>\n      <td>2.0</td>\n      <td>Exotic,High-Performance</td>\n      <td>Compact</td>\n      <td>Convertible</td>\n      <td>26</td>\n      <td>20</td>\n      <td>613</td>\n      <td>57950</td>\n    </tr>\n    <tr>\n      <th>4216</th>\n      <td>Lotus</td>\n      <td>Esprit</td>\n      <td>2002</td>\n      <td>premium unleaded (required)</td>\n      <td>350.0</td>\n      <td>8.0</td>\n      <td>MANUAL</td>\n      <td>rear wheel drive</td>\n      <td>2.0</td>\n      <td>Exotic,High-Performance</td>\n      <td>Compact</td>\n      <td>Coupe</td>\n      <td>21</td>\n      <td>14</td>\n      <td>613</td>\n      <td>89825</td>\n    </tr>\n    <tr>\n      <th>4217</th>\n      <td>Lotus</td>\n      <td>Esprit</td>\n      <td>2003</td>\n      <td>premium unleaded (required)</td>\n      <td>350.0</td>\n      <td>8.0</td>\n      <td>MANUAL</td>\n      <td>rear wheel drive</td>\n      <td>2.0</td>\n      <td>Exotic,High-Performance</td>\n      <td>Compact</td>\n      <td>Coupe</td>\n      <td>21</td>\n      <td>14</td>\n      <td>613</td>\n      <td>90825</td>\n    </tr>\n    <tr>\n      <th>4218</th>\n      <td>Lotus</td>\n      <td>Esprit</td>\n      <td>2004</td>\n      <td>premium unleaded (required)</td>\n      <td>350.0</td>\n      <td>8.0</td>\n      <td>MANUAL</td>\n      <td>rear wheel drive</td>\n      <td>2.0</td>\n      <td>Exotic,High-Performance</td>\n      <td>Compact</td>\n      <td>Coupe</td>\n      <td>21</td>\n      <td>14</td>\n      <td>613</td>\n      <td>93225</td>\n    </tr>\n    <tr>\n      <th>4257</th>\n      <td>Lotus</td>\n      <td>Evora 400</td>\n      <td>2017</td>\n      <td>premium unleaded (required)</td>\n      <td>400.0</td>\n      <td>6.0</td>\n      <td>MANUAL</td>\n      <td>rear wheel drive</td>\n      <td>2.0</td>\n      <td>Exotic,High-Performance</td>\n      <td>Compact</td>\n      <td>Coupe</td>\n      <td>39</td>\n      <td>21</td>\n      <td>613</td>\n      <td>91900</td>\n    </tr>\n    <tr>\n      <th>4258</th>\n      <td>Lotus</td>\n      <td>Evora 400</td>\n      <td>2017</td>\n      <td>premium unleaded (required)</td>\n      <td>400.0</td>\n      <td>6.0</td>\n      <td>MANUAL</td>\n      <td>rear wheel drive</td>\n      <td>2.0</td>\n      <td>Exotic,High-Performance</td>\n      <td>Compact</td>\n      <td>Coupe</td>\n      <td>39</td>\n      <td>21</td>\n      <td>613</td>\n      <td>91900</td>\n    </tr>\n    <tr>\n      <th>4259</th>\n      <td>Lotus</td>\n      <td>Evora</td>\n      <td>2011</td>\n      <td>premium unleaded (required)</td>\n      <td>276.0</td>\n      <td>6.0</td>\n      <td>MANUAL</td>\n      <td>rear wheel drive</td>\n      <td>2.0</td>\n      <td>Exotic,High-Performance</td>\n      <td>Compact</td>\n      <td>Coupe</td>\n      <td>27</td>\n      <td>18</td>\n      <td>613</td>\n      <td>64000</td>\n    </tr>\n    <tr>\n      <th>4260</th>\n      <td>Lotus</td>\n      <td>Evora</td>\n      <td>2011</td>\n      <td>premium unleaded (required)</td>\n      <td>276.0</td>\n      <td>6.0</td>\n      <td>MANUAL</td>\n      <td>rear wheel drive</td>\n      <td>2.0</td>\n      <td>Exotic,High-Performance</td>\n      <td>Compact</td>\n      <td>Coupe</td>\n      <td>26</td>\n      <td>18</td>\n      <td>613</td>\n      <td>65500</td>\n    </tr>\n    <tr>\n      <th>4261</th>\n      <td>Lotus</td>\n      <td>Evora</td>\n      <td>2013</td>\n      <td>premium unleaded (required)</td>\n      <td>276.0</td>\n      <td>6.0</td>\n      <td>MANUAL</td>\n      <td>rear wheel drive</td>\n      <td>2.0</td>\n      <td>Exotic,High-Performance</td>\n      <td>Compact</td>\n      <td>Coupe</td>\n      <td>26</td>\n      <td>18</td>\n      <td>613</td>\n      <td>66800</td>\n    </tr>\n    <tr>\n      <th>4262</th>\n      <td>Lotus</td>\n      <td>Evora</td>\n      <td>2013</td>\n      <td>premium unleaded (required)</td>\n      <td>345.0</td>\n      <td>6.0</td>\n      <td>MANUAL</td>\n      <td>rear wheel drive</td>\n      <td>2.0</td>\n      <td>Exotic,High-Performance</td>\n      <td>Compact</td>\n      <td>Coupe</td>\n      <td>26</td>\n      <td>17</td>\n      <td>613</td>\n      <td>77100</td>\n    </tr>\n    <tr>\n      <th>4263</th>\n      <td>Lotus</td>\n      <td>Evora</td>\n      <td>2013</td>\n      <td>premium unleaded (required)</td>\n      <td>345.0</td>\n      <td>6.0</td>\n      <td>MANUAL</td>\n      <td>rear wheel drive</td>\n      <td>2.0</td>\n      <td>Exotic,High-Performance</td>\n      <td>Compact</td>\n      <td>Coupe</td>\n      <td>26</td>\n      <td>17</td>\n      <td>613</td>\n      <td>78600</td>\n    </tr>\n    <tr>\n      <th>4264</th>\n      <td>Lotus</td>\n      <td>Evora</td>\n      <td>2013</td>\n      <td>premium unleaded (required)</td>\n      <td>276.0</td>\n      <td>6.0</td>\n      <td>MANUAL</td>\n      <td>rear wheel drive</td>\n      <td>2.0</td>\n      <td>Exotic,High-Performance</td>\n      <td>Compact</td>\n      <td>Coupe</td>\n      <td>26</td>\n      <td>18</td>\n      <td>613</td>\n      <td>68300</td>\n    </tr>\n    <tr>\n      <th>4265</th>\n      <td>Lotus</td>\n      <td>Evora</td>\n      <td>2014</td>\n      <td>premium unleaded (required)</td>\n      <td>345.0</td>\n      <td>6.0</td>\n      <td>MANUAL</td>\n      <td>rear wheel drive</td>\n      <td>2.0</td>\n      <td>Exotic,High-Performance</td>\n      <td>Compact</td>\n      <td>Coupe</td>\n      <td>26</td>\n      <td>17</td>\n      <td>613</td>\n      <td>78750</td>\n    </tr>\n    <tr>\n      <th>4266</th>\n      <td>Lotus</td>\n      <td>Evora</td>\n      <td>2014</td>\n      <td>premium unleaded (required)</td>\n      <td>276.0</td>\n      <td>6.0</td>\n      <td>MANUAL</td>\n      <td>rear wheel drive</td>\n      <td>2.0</td>\n      <td>Exotic,High-Performance</td>\n      <td>Compact</td>\n      <td>Coupe</td>\n      <td>26</td>\n      <td>18</td>\n      <td>613</td>\n      <td>68750</td>\n    </tr>\n    <tr>\n      <th>4267</th>\n      <td>Lotus</td>\n      <td>Evora</td>\n      <td>2014</td>\n      <td>premium unleaded (required)</td>\n      <td>345.0</td>\n      <td>6.0</td>\n      <td>MANUAL</td>\n      <td>rear wheel drive</td>\n      <td>2.0</td>\n      <td>Exotic,High-Performance</td>\n      <td>Compact</td>\n      <td>Coupe</td>\n      <td>26</td>\n      <td>17</td>\n      <td>613</td>\n      <td>79980</td>\n    </tr>\n    <tr>\n      <th>4268</th>\n      <td>Lotus</td>\n      <td>Evora</td>\n      <td>2014</td>\n      <td>premium unleaded (required)</td>\n      <td>276.0</td>\n      <td>6.0</td>\n      <td>MANUAL</td>\n      <td>rear wheel drive</td>\n      <td>2.0</td>\n      <td>Exotic,High-Performance</td>\n      <td>Compact</td>\n      <td>Coupe</td>\n      <td>26</td>\n      <td>18</td>\n      <td>613</td>\n      <td>69980</td>\n    </tr>\n    <tr>\n      <th>4292</th>\n      <td>Lotus</td>\n      <td>Exige</td>\n      <td>2009</td>\n      <td>premium unleaded (recommended)</td>\n      <td>257.0</td>\n      <td>4.0</td>\n      <td>MANUAL</td>\n      <td>rear wheel drive</td>\n      <td>2.0</td>\n      <td>Exotic,High-Performance</td>\n      <td>Compact</td>\n      <td>Coupe</td>\n      <td>26</td>\n      <td>20</td>\n      <td>613</td>\n      <td>74995</td>\n    </tr>\n    <tr>\n      <th>4293</th>\n      <td>Lotus</td>\n      <td>Exige</td>\n      <td>2009</td>\n      <td>premium unleaded (recommended)</td>\n      <td>240.0</td>\n      <td>4.0</td>\n      <td>MANUAL</td>\n      <td>rear wheel drive</td>\n      <td>2.0</td>\n      <td>Exotic,High-Performance</td>\n      <td>Compact</td>\n      <td>Coupe</td>\n      <td>26</td>\n      <td>20</td>\n      <td>613</td>\n      <td>65690</td>\n    </tr>\n    <tr>\n      <th>4294</th>\n      <td>Lotus</td>\n      <td>Exige</td>\n      <td>2010</td>\n      <td>premium unleaded (recommended)</td>\n      <td>240.0</td>\n      <td>4.0</td>\n      <td>MANUAL</td>\n      <td>rear wheel drive</td>\n      <td>2.0</td>\n      <td>Exotic,High-Performance</td>\n      <td>Compact</td>\n      <td>Coupe</td>\n      <td>26</td>\n      <td>20</td>\n      <td>613</td>\n      <td>65690</td>\n    </tr>\n    <tr>\n      <th>4295</th>\n      <td>Lotus</td>\n      <td>Exige</td>\n      <td>2011</td>\n      <td>premium unleaded (recommended)</td>\n      <td>240.0</td>\n      <td>4.0</td>\n      <td>MANUAL</td>\n      <td>rear wheel drive</td>\n      <td>2.0</td>\n      <td>Exotic,High-Performance</td>\n      <td>Compact</td>\n      <td>Coupe</td>\n      <td>26</td>\n      <td>20</td>\n      <td>613</td>\n      <td>65690</td>\n    </tr>\n    <tr>\n      <th>4296</th>\n      <td>Lotus</td>\n      <td>Exige</td>\n      <td>2011</td>\n      <td>premium unleaded (recommended)</td>\n      <td>257.0</td>\n      <td>4.0</td>\n      <td>MANUAL</td>\n      <td>rear wheel drive</td>\n      <td>2.0</td>\n      <td>Exotic,High-Performance</td>\n      <td>Compact</td>\n      <td>Coupe</td>\n      <td>26</td>\n      <td>20</td>\n      <td>613</td>\n      <td>70750</td>\n    </tr>\n    <tr>\n      <th>4297</th>\n      <td>Lotus</td>\n      <td>Exige</td>\n      <td>2011</td>\n      <td>premium unleaded (recommended)</td>\n      <td>257.0</td>\n      <td>4.0</td>\n      <td>MANUAL</td>\n      <td>rear wheel drive</td>\n      <td>2.0</td>\n      <td>Exotic,High-Performance</td>\n      <td>Compact</td>\n      <td>Coupe</td>\n      <td>26</td>\n      <td>20</td>\n      <td>613</td>\n      <td>74950</td>\n    </tr>\n  </tbody>\n</table>\n</div>"
     },
     "execution_count": 13,
     "metadata": {},
     "output_type": "execute_result"
    }
   ],
   "source": [
    "df_lotus = df[df['Make'] == 'Lotus']\n",
    "df_lotus"
   ],
   "metadata": {
    "collapsed": false,
    "pycharm": {
     "name": "#%%\n"
    }
   }
  },
  {
   "cell_type": "code",
   "execution_count": 14,
   "outputs": [
    {
     "data": {
      "text/plain": "      Engine HP  Engine Cylinders\n3912      189.0               4.0\n3913      218.0               4.0\n3914      189.0               4.0\n3915      189.0               4.0\n3916      218.0               4.0\n3917      189.0               4.0\n3918      217.0               4.0\n3919      217.0               4.0\n4216      350.0               8.0\n4217      350.0               8.0\n4218      350.0               8.0\n4257      400.0               6.0\n4258      400.0               6.0\n4259      276.0               6.0\n4260      276.0               6.0\n4261      276.0               6.0\n4262      345.0               6.0\n4263      345.0               6.0\n4264      276.0               6.0\n4265      345.0               6.0\n4266      276.0               6.0\n4267      345.0               6.0\n4268      276.0               6.0\n4292      257.0               4.0\n4293      240.0               4.0\n4294      240.0               4.0\n4295      240.0               4.0\n4296      257.0               4.0\n4297      257.0               4.0",
      "text/html": "<div>\n<style scoped>\n    .dataframe tbody tr th:only-of-type {\n        vertical-align: middle;\n    }\n\n    .dataframe tbody tr th {\n        vertical-align: top;\n    }\n\n    .dataframe thead th {\n        text-align: right;\n    }\n</style>\n<table border=\"1\" class=\"dataframe\">\n  <thead>\n    <tr style=\"text-align: right;\">\n      <th></th>\n      <th>Engine HP</th>\n      <th>Engine Cylinders</th>\n    </tr>\n  </thead>\n  <tbody>\n    <tr>\n      <th>3912</th>\n      <td>189.0</td>\n      <td>4.0</td>\n    </tr>\n    <tr>\n      <th>3913</th>\n      <td>218.0</td>\n      <td>4.0</td>\n    </tr>\n    <tr>\n      <th>3914</th>\n      <td>189.0</td>\n      <td>4.0</td>\n    </tr>\n    <tr>\n      <th>3915</th>\n      <td>189.0</td>\n      <td>4.0</td>\n    </tr>\n    <tr>\n      <th>3916</th>\n      <td>218.0</td>\n      <td>4.0</td>\n    </tr>\n    <tr>\n      <th>3917</th>\n      <td>189.0</td>\n      <td>4.0</td>\n    </tr>\n    <tr>\n      <th>3918</th>\n      <td>217.0</td>\n      <td>4.0</td>\n    </tr>\n    <tr>\n      <th>3919</th>\n      <td>217.0</td>\n      <td>4.0</td>\n    </tr>\n    <tr>\n      <th>4216</th>\n      <td>350.0</td>\n      <td>8.0</td>\n    </tr>\n    <tr>\n      <th>4217</th>\n      <td>350.0</td>\n      <td>8.0</td>\n    </tr>\n    <tr>\n      <th>4218</th>\n      <td>350.0</td>\n      <td>8.0</td>\n    </tr>\n    <tr>\n      <th>4257</th>\n      <td>400.0</td>\n      <td>6.0</td>\n    </tr>\n    <tr>\n      <th>4258</th>\n      <td>400.0</td>\n      <td>6.0</td>\n    </tr>\n    <tr>\n      <th>4259</th>\n      <td>276.0</td>\n      <td>6.0</td>\n    </tr>\n    <tr>\n      <th>4260</th>\n      <td>276.0</td>\n      <td>6.0</td>\n    </tr>\n    <tr>\n      <th>4261</th>\n      <td>276.0</td>\n      <td>6.0</td>\n    </tr>\n    <tr>\n      <th>4262</th>\n      <td>345.0</td>\n      <td>6.0</td>\n    </tr>\n    <tr>\n      <th>4263</th>\n      <td>345.0</td>\n      <td>6.0</td>\n    </tr>\n    <tr>\n      <th>4264</th>\n      <td>276.0</td>\n      <td>6.0</td>\n    </tr>\n    <tr>\n      <th>4265</th>\n      <td>345.0</td>\n      <td>6.0</td>\n    </tr>\n    <tr>\n      <th>4266</th>\n      <td>276.0</td>\n      <td>6.0</td>\n    </tr>\n    <tr>\n      <th>4267</th>\n      <td>345.0</td>\n      <td>6.0</td>\n    </tr>\n    <tr>\n      <th>4268</th>\n      <td>276.0</td>\n      <td>6.0</td>\n    </tr>\n    <tr>\n      <th>4292</th>\n      <td>257.0</td>\n      <td>4.0</td>\n    </tr>\n    <tr>\n      <th>4293</th>\n      <td>240.0</td>\n      <td>4.0</td>\n    </tr>\n    <tr>\n      <th>4294</th>\n      <td>240.0</td>\n      <td>4.0</td>\n    </tr>\n    <tr>\n      <th>4295</th>\n      <td>240.0</td>\n      <td>4.0</td>\n    </tr>\n    <tr>\n      <th>4296</th>\n      <td>257.0</td>\n      <td>4.0</td>\n    </tr>\n    <tr>\n      <th>4297</th>\n      <td>257.0</td>\n      <td>4.0</td>\n    </tr>\n  </tbody>\n</table>\n</div>"
     },
     "execution_count": 14,
     "metadata": {},
     "output_type": "execute_result"
    }
   ],
   "source": [
    "df_lotus_engines = df_lotus[['Engine HP', 'Engine Cylinders']]\n",
    "df_lotus_engines"
   ],
   "metadata": {
    "collapsed": false,
    "pycharm": {
     "name": "#%%\n"
    }
   }
  },
  {
   "cell_type": "code",
   "execution_count": 15,
   "outputs": [
    {
     "data": {
      "text/plain": "      Engine HP  Engine Cylinders\n3912      189.0               4.0\n3913      218.0               4.0\n3918      217.0               4.0\n4216      350.0               8.0\n4257      400.0               6.0\n4259      276.0               6.0\n4262      345.0               6.0\n4292      257.0               4.0\n4293      240.0               4.0",
      "text/html": "<div>\n<style scoped>\n    .dataframe tbody tr th:only-of-type {\n        vertical-align: middle;\n    }\n\n    .dataframe tbody tr th {\n        vertical-align: top;\n    }\n\n    .dataframe thead th {\n        text-align: right;\n    }\n</style>\n<table border=\"1\" class=\"dataframe\">\n  <thead>\n    <tr style=\"text-align: right;\">\n      <th></th>\n      <th>Engine HP</th>\n      <th>Engine Cylinders</th>\n    </tr>\n  </thead>\n  <tbody>\n    <tr>\n      <th>3912</th>\n      <td>189.0</td>\n      <td>4.0</td>\n    </tr>\n    <tr>\n      <th>3913</th>\n      <td>218.0</td>\n      <td>4.0</td>\n    </tr>\n    <tr>\n      <th>3918</th>\n      <td>217.0</td>\n      <td>4.0</td>\n    </tr>\n    <tr>\n      <th>4216</th>\n      <td>350.0</td>\n      <td>8.0</td>\n    </tr>\n    <tr>\n      <th>4257</th>\n      <td>400.0</td>\n      <td>6.0</td>\n    </tr>\n    <tr>\n      <th>4259</th>\n      <td>276.0</td>\n      <td>6.0</td>\n    </tr>\n    <tr>\n      <th>4262</th>\n      <td>345.0</td>\n      <td>6.0</td>\n    </tr>\n    <tr>\n      <th>4292</th>\n      <td>257.0</td>\n      <td>4.0</td>\n    </tr>\n    <tr>\n      <th>4293</th>\n      <td>240.0</td>\n      <td>4.0</td>\n    </tr>\n  </tbody>\n</table>\n</div>"
     },
     "execution_count": 15,
     "metadata": {},
     "output_type": "execute_result"
    }
   ],
   "source": [
    "df_lotus_engines = df_lotus_engines.drop_duplicates()\n",
    "df_lotus_engines"
   ],
   "metadata": {
    "collapsed": false,
    "pycharm": {
     "name": "#%%\n"
    }
   }
  },
  {
   "cell_type": "code",
   "execution_count": 16,
   "outputs": [
    {
     "data": {
      "text/plain": "array([[189.,   4.],\n       [218.,   4.],\n       [217.,   4.],\n       [350.,   8.],\n       [400.,   6.],\n       [276.,   6.],\n       [345.,   6.],\n       [257.,   4.],\n       [240.,   4.]])"
     },
     "execution_count": 16,
     "metadata": {},
     "output_type": "execute_result"
    }
   ],
   "source": [
    "X = df_lotus_engines.to_numpy()\n",
    "X"
   ],
   "metadata": {
    "collapsed": false,
    "pycharm": {
     "name": "#%%\n"
    }
   }
  },
  {
   "cell_type": "code",
   "execution_count": 17,
   "outputs": [
    {
     "data": {
      "text/plain": "array([[7.31684e+05, 1.34100e+04],\n       [1.34100e+04, 2.52000e+02]])"
     },
     "execution_count": 17,
     "metadata": {},
     "output_type": "execute_result"
    }
   ],
   "source": [
    "XTX = np.matmul(X.T, X)\n",
    "XTX"
   ],
   "metadata": {
    "collapsed": false,
    "pycharm": {
     "name": "#%%\n"
    }
   }
  },
  {
   "cell_type": "code",
   "execution_count": 18,
   "outputs": [
    {
     "data": {
      "text/plain": "array([[ 5.53084235e-05, -2.94319825e-03],\n       [-2.94319825e-03,  1.60588447e-01]])"
     },
     "execution_count": 18,
     "metadata": {},
     "output_type": "execute_result"
    }
   ],
   "source": [
    "XTX_inv = np.linalg.inv(XTX)\n",
    "XTX_inv"
   ],
   "metadata": {
    "collapsed": false,
    "pycharm": {
     "name": "#%%\n"
    }
   }
  },
  {
   "cell_type": "code",
   "execution_count": 19,
   "outputs": [
    {
     "data": {
      "text/plain": "[1100, 800, 750, 850, 1300, 1000, 1000, 1300, 800]"
     },
     "execution_count": 19,
     "metadata": {},
     "output_type": "execute_result"
    }
   ],
   "source": [
    "y = [1100, 800, 750, 850, 1300, 1000, 1000, 1300, 800]\n",
    "y"
   ],
   "metadata": {
    "collapsed": false,
    "pycharm": {
     "name": "#%%\n"
    }
   }
  },
  {
   "cell_type": "code",
   "execution_count": 20,
   "outputs": [
    {
     "data": {
      "text/plain": "array([[-1.31950096e-03,  2.84443321e-04,  2.29134897e-04,\n        -4.18763778e-03,  4.46417989e-03, -2.39406462e-03,\n         1.42221660e-03,  2.44147184e-03,  1.50122864e-03],\n       [ 8.60893170e-02,  7.36567735e-04,  3.67976598e-03,\n         2.54588185e-01, -2.13748621e-01,  1.51207962e-01,\n        -5.18727169e-02, -1.14048164e-01, -6.40137937e-02]])"
     },
     "execution_count": 20,
     "metadata": {},
     "output_type": "execute_result"
    }
   ],
   "source": [
    "XTXiXT = np.matmul(XTX_inv, X.T)\n",
    "XTXiXT"
   ],
   "metadata": {
    "collapsed": false,
    "pycharm": {
     "name": "#%%\n"
    }
   }
  },
  {
   "cell_type": "code",
   "execution_count": 21,
   "outputs": [
    {
     "data": {
      "text/plain": "array([  4.59494481, -63.56432501])"
     },
     "execution_count": 21,
     "metadata": {},
     "output_type": "execute_result"
    }
   ],
   "source": [
    "w = np.matmul(XTXiXT, y)\n",
    "w"
   ],
   "metadata": {
    "collapsed": false,
    "pycharm": {
     "name": "#%%\n"
    }
   }
  },
  {
   "cell_type": "code",
   "execution_count": 22,
   "outputs": [
    {
     "data": {
      "text/plain": "4.5949448100945744"
     },
     "execution_count": 22,
     "metadata": {},
     "output_type": "execute_result"
    }
   ],
   "source": [
    "w[0]"
   ],
   "metadata": {
    "collapsed": false,
    "pycharm": {
     "name": "#%%\n"
    }
   }
  }
 ],
 "metadata": {
  "kernelspec": {
   "display_name": "Python 3",
   "language": "python",
   "name": "python3"
  },
  "language_info": {
   "codemirror_mode": {
    "name": "ipython",
    "version": 2
   },
   "file_extension": ".py",
   "mimetype": "text/x-python",
   "name": "python",
   "nbconvert_exporter": "python",
   "pygments_lexer": "ipython2",
   "version": "2.7.6"
  }
 },
 "nbformat": 4,
 "nbformat_minor": 0
}